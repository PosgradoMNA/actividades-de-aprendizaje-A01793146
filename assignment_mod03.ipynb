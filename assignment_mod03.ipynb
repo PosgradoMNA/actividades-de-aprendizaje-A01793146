{
  "nbformat": 4,
  "nbformat_minor": 0,
  "metadata": {
    "colab": {
      "provenance": [],
      "authorship_tag": "ABX9TyOTx6qRu2VN6MlKvTAwDI7E",
      "include_colab_link": true
    },
    "kernelspec": {
      "name": "python3",
      "display_name": "Python 3"
    },
    "language_info": {
      "name": "python"
    }
  },
  "cells": [
    {
      "cell_type": "markdown",
      "metadata": {
        "id": "view-in-github",
        "colab_type": "text"
      },
      "source": [
        "<a href=\"https://colab.research.google.com/github/PosgradoMNA/actividades-de-aprendizaje-A01793146/blob/main/assignment_mod03.ipynb\" target=\"_parent\"><img src=\"https://colab.research.google.com/assets/colab-badge.svg\" alt=\"Open In Colab\"/></a>"
      ]
    },
    {
      "cell_type": "markdown",
      "source": [
        "## **Conditions**"
      ],
      "metadata": {
        "id": "ycDD_uiNn28Q"
      }
    },
    {
      "cell_type": "code",
      "execution_count": 2,
      "metadata": {
        "colab": {
          "base_uri": "https://localhost:8080/"
        },
        "id": "BWANlHXcgfSJ",
        "outputId": "48b2221e-5198-4346-f70a-f29fa7eb2727"
      },
      "outputs": [
        {
          "output_type": "execute_result",
          "data": {
            "text/plain": [
              "True"
            ]
          },
          "metadata": {},
          "execution_count": 2
        }
      ],
      "source": [
        "# This is a comparision operations\n",
        "# Which is the value that produces true?\n",
        "i = 1\n",
        "i != 0\n",
        "\n"
      ]
    },
    {
      "cell_type": "code",
      "source": [
        "# More exercises\n",
        "\n",
        "a = 5\n",
        "a == 6\n",
        "\n",
        "# In the first line we're assigning a value of 5 to x and in the second one we're evaluating if a is equal to 6\n",
        "\n",
        "i = 32\n",
        "i < 60\n"
      ],
      "metadata": {
        "colab": {
          "base_uri": "https://localhost:8080/"
        },
        "id": "P1WqNQ5grjuc",
        "outputId": "6a1e0d2d-d7d3-4d95-a304-3e17d4514d46"
      },
      "execution_count": 37,
      "outputs": [
        {
          "output_type": "execute_result",
          "data": {
            "text/plain": [
              "False"
            ]
          },
          "metadata": {},
          "execution_count": 37
        }
      ]
    },
    {
      "cell_type": "code",
      "source": [
        "\n",
        "# We can make some fun comparisions between strings\n",
        "\n",
        "\"Hola\" == \"Buenos dias\"\n",
        "\n",
        "# This should be false because hola is not equal to buenos dias\n"
      ],
      "metadata": {
        "colab": {
          "base_uri": "https://localhost:8080/"
        },
        "id": "6Dqj6K6Lr7kQ",
        "outputId": "f947ff4e-b79a-43a1-f2f2-c75d62a03470"
      },
      "execution_count": 39,
      "outputs": [
        {
          "output_type": "execute_result",
          "data": {
            "text/plain": [
              "False"
            ]
          },
          "metadata": {},
          "execution_count": 39
        }
      ]
    },
    {
      "cell_type": "code",
      "source": [
        "# This exercise is for logical operatos\n",
        "# Find the vlaue of y that produces a true statement\n",
        "\n",
        "y =  9\n",
        "x = 1\n",
        "\n",
        "x > 0 and y < 10\n",
        "\n",
        "# If I set y = 10, then the statement is not valid\n"
      ],
      "metadata": {
        "colab": {
          "base_uri": "https://localhost:8080/"
        },
        "id": "7gNK0nkFiLYT",
        "outputId": "497e9996-ef9b-4bc4-f02c-2eb1fc0f4035"
      },
      "execution_count": 6,
      "outputs": [
        {
          "output_type": "execute_result",
          "data": {
            "text/plain": [
              "True"
            ]
          },
          "metadata": {},
          "execution_count": 6
        }
      ]
    },
    {
      "cell_type": "markdown",
      "source": [
        "## **Branching**"
      ],
      "metadata": {
        "id": "bKGJCUE4sGse"
      }
    },
    {
      "cell_type": "code",
      "source": [],
      "metadata": {
        "id": "pyb6tDZzsFGI"
      },
      "execution_count": null,
      "outputs": []
    },
    {
      "cell_type": "code",
      "source": [
        "# This is branching.\n",
        "# Find the value of x that prints \"this is a\"\n",
        "\n",
        "x = \"a\"\n",
        "\n",
        "if(x ==\"a\"):\n",
        "    print(\"this is a\")\n",
        "else:\n",
        "    print(\"this is not a\")\n",
        "\n"
      ],
      "metadata": {
        "colab": {
          "base_uri": "https://localhost:8080/"
        },
        "id": "IyPP5Z-Yh-BW",
        "outputId": "7353d922-4b66-48ac-bb9a-1ea6cff305c4"
      },
      "execution_count": 3,
      "outputs": [
        {
          "output_type": "stream",
          "name": "stdout",
          "text": [
            "this is a\n"
          ]
        }
      ]
    },
    {
      "cell_type": "code",
      "source": [
        "# An easy way to see how it works is:\n",
        "\n",
        "age = 18\n",
        "\n",
        "if age < 18:\n",
        "  print(\"You can't have a beer\")\n",
        "else:\n",
        "  print(\"Yeah, you deserve it!\")"
      ],
      "metadata": {
        "colab": {
          "base_uri": "https://localhost:8080/"
        },
        "id": "2Jv7yCPysSrB",
        "outputId": "9bc1a54f-1f20-4554-c7a3-a273074c0986"
      },
      "execution_count": 40,
      "outputs": [
        {
          "output_type": "stream",
          "name": "stdout",
          "text": [
            "Yeah, you deserve it!\n"
          ]
        }
      ]
    },
    {
      "cell_type": "code",
      "source": [
        "# Moreoever we can add some bifurcations\n",
        "\n",
        "if age < 18:\n",
        "  print(\"You can't have a beer\")\n",
        "elif age==18:\n",
        "  print(\"Just barely...!\")\n",
        "else:\n",
        "  print(\"Go and get a vodka\")"
      ],
      "metadata": {
        "colab": {
          "base_uri": "https://localhost:8080/"
        },
        "id": "lZawCRs8sir_",
        "outputId": "4d5d48b6-27f3-43ad-f957-fd5edb67a5b7"
      },
      "execution_count": 42,
      "outputs": [
        {
          "output_type": "stream",
          "name": "stdout",
          "text": [
            "Just barely...!\n"
          ]
        }
      ]
    },
    {
      "cell_type": "code",
      "source": [
        "# We can combine logical operators\n",
        "\n",
        "album_year =2001\n",
        "\n",
        "if(album_year > 2000) and (album_year < 2020):\n",
        "  print(\"The album year was between 2000 and 2020\")\n",
        "\n"
      ],
      "metadata": {
        "colab": {
          "base_uri": "https://localhost:8080/"
        },
        "id": "6xQNQWF6tKdp",
        "outputId": "66d818f9-cf5d-468d-b96d-c604041caa1b"
      },
      "execution_count": 44,
      "outputs": [
        {
          "output_type": "stream",
          "name": "stdout",
          "text": [
            "The album year was between 2000 and 2020\n"
          ]
        }
      ]
    },
    {
      "cell_type": "code",
      "source": [
        "#Write an if statement to determine if an album had a rating greater than 8. Test it using the rating for the album “Back in Black” that had a rating of 8.5. If the statement is true print \"This album is Amazing!\"\n",
        "rating = 8\n",
        "\n",
        "if (rating >8.5):\n",
        "  print(\"This album is amazing!\")"
      ],
      "metadata": {
        "id": "mnPwiOmRvsSs"
      },
      "execution_count": 47,
      "outputs": []
    },
    {
      "cell_type": "code",
      "source": [
        "#Let's make the exercise\n",
        "#Write an if statement to determine if an album had a rating greater than 8. Test it using the rating for the album “Back in Black” that had a rating of 8.5. If the statement is true print \"This album is Amazing!\"\n",
        "\n",
        "\n",
        "if(rating >8):\n",
        "  print(\"This rating is awesome\")\n",
        "else:\n",
        "  print(\"This album is ok\")"
      ],
      "metadata": {
        "colab": {
          "base_uri": "https://localhost:8080/"
        },
        "id": "VwAfx_hGufFj",
        "outputId": "73f1b970-979a-46d9-f602-5ee36a8402ce"
      },
      "execution_count": 45,
      "outputs": [
        {
          "output_type": "stream",
          "name": "stdout",
          "text": [
            "This album is ok\n"
          ]
        }
      ]
    },
    {
      "cell_type": "code",
      "source": [
        "#Write an if statement to determine if an album came out before 1980 or in the years: 1991 or 1993. If the condition is true print out the year the album came out.\n",
        "\n",
        "album_year = 1992\n",
        "\n",
        "if(album_year > 1991) and (album_year<1993):\n",
        "  print(\"Album between 1991 and 1993\")\n",
        "elif (album_year < 1991):\n",
        "  print(\"Album before 1991\")\n",
        "else:\n",
        "  print(\"Album out of 1991 or 1993\")\n"
      ],
      "metadata": {
        "colab": {
          "base_uri": "https://localhost:8080/"
        },
        "id": "L513nlvHwCPF",
        "outputId": "b238062f-939e-4555-f987-4f50ab221e50"
      },
      "execution_count": 49,
      "outputs": [
        {
          "output_type": "stream",
          "name": "stdout",
          "text": [
            "Album between 1991 and 1993\n"
          ]
        }
      ]
    },
    {
      "cell_type": "markdown",
      "source": [
        "## **Loops**"
      ],
      "metadata": {
        "id": "6no0iuKnn8V0"
      }
    },
    {
      "cell_type": "code",
      "source": [
        "# This is an exercise for loops\n",
        "# Use loops to print out the elements of the list A\n",
        "\n",
        "A = [3, 4, 5]\n",
        "\n",
        "for a in A:\n",
        "  print(a)\n"
      ],
      "metadata": {
        "colab": {
          "base_uri": "https://localhost:8080/"
        },
        "id": "FsrUhycUi4VL",
        "outputId": "9cbd9028-56a2-457e-f627-94b3b7d8f0cd"
      },
      "execution_count": 8,
      "outputs": [
        {
          "output_type": "stream",
          "name": "stdout",
          "text": [
            "3\n",
            "4\n",
            "5\n"
          ]
        }
      ]
    },
    {
      "cell_type": "code",
      "source": [
        "# Now let's check the loops with while\n",
        "# find the value of x that print out the sequence 1,2 ..., 10\n",
        "\n",
        "x = 10 \n",
        "y = 1\n",
        "\n",
        "while(y !=x):\n",
        "  print(y)\n",
        "  y=y+1\n",
        "\n",
        "\n"
      ],
      "metadata": {
        "colab": {
          "base_uri": "https://localhost:8080/"
        },
        "id": "a7RRHADyjIgi",
        "outputId": "b443f85c-2064-4689-c0fe-2f7f548cfc33"
      },
      "execution_count": 13,
      "outputs": [
        {
          "output_type": "stream",
          "name": "stdout",
          "text": [
            "1\n",
            "2\n",
            "3\n",
            "4\n",
            "5\n",
            "6\n",
            "7\n",
            "8\n",
            "9\n"
          ]
        }
      ]
    },
    {
      "cell_type": "code",
      "source": [
        "#Some quizes\n",
        "#Write a for loop the prints out all the element between -5 and 5 using the range function.\n",
        "\n",
        "for i in range(-4, 5):\n",
        "  print(i)\n",
        "\n",
        "\n"
      ],
      "metadata": {
        "colab": {
          "base_uri": "https://localhost:8080/"
        },
        "id": "faey1JxSw6T3",
        "outputId": "278b863d-8645-4393-d8eb-d0d57d9e2ce8"
      },
      "execution_count": 52,
      "outputs": [
        {
          "output_type": "stream",
          "name": "stdout",
          "text": [
            "-4\n",
            "-3\n",
            "-2\n",
            "-1\n",
            "0\n",
            "1\n",
            "2\n",
            "3\n",
            "4\n"
          ]
        }
      ]
    },
    {
      "cell_type": "code",
      "source": [
        "#Print the elements of the following list: Genres=[ 'rock', 'R&B', 'Soundtrack', 'R&B', 'soul', 'pop'] Make sure you follow Python conventions.\n",
        "\n",
        "Genres=[ 'rock', 'R&B', 'Soundtrack', 'R&B', 'soul', 'pop']\n",
        "\n",
        "for i in Genres:\n",
        "   print(i)"
      ],
      "metadata": {
        "colab": {
          "base_uri": "https://localhost:8080/"
        },
        "id": "D5plnpMUym1V",
        "outputId": "75eb1a3e-b976-4be3-ea5c-c76e778cb341"
      },
      "execution_count": 56,
      "outputs": [
        {
          "output_type": "stream",
          "name": "stdout",
          "text": [
            "rock\n",
            "R&B\n",
            "Soundtrack\n",
            "R&B\n",
            "soul\n",
            "pop\n"
          ]
        }
      ]
    },
    {
      "cell_type": "code",
      "source": [
        "#Write a for loop that prints out the following list: squares=['red', 'yellow', 'green', 'purple', 'blue']\n",
        "\n",
        "squares=['red', 'yellow', 'green', 'purple', 'blue']\n",
        "\n",
        "for i in squares:\n",
        "  print(i)"
      ],
      "metadata": {
        "colab": {
          "base_uri": "https://localhost:8080/"
        },
        "id": "bJ7FD-_tyzf4",
        "outputId": "b00b80f8-b32d-46ea-fa05-93bc0ca5b96f"
      },
      "execution_count": 57,
      "outputs": [
        {
          "output_type": "stream",
          "name": "stdout",
          "text": [
            "red\n",
            "yellow\n",
            "green\n",
            "purple\n",
            "blue\n"
          ]
        }
      ]
    },
    {
      "cell_type": "code",
      "source": [
        "#Write a while loop to display the values of the Rating of an album playlist stored in the list PlayListRatings. \n",
        "#If the score is less than 6, exit the loop. \n",
        "#The list PlayListRatings is given by: PlayListRatings = [10, 9.5, 10, 8, 7.5, 5, 10, 10]\n",
        "\n",
        "\n",
        "PlayListRatings = [10, 9.5, 10, 8, 7.5, 5, 10, 10]\n",
        "\n",
        "for i in PlayListRatings:\n",
        "  if(i < 6):\n",
        "    exit\n",
        "  else:\n",
        "    print(\"rating is: \", i)    \n"
      ],
      "metadata": {
        "colab": {
          "base_uri": "https://localhost:8080/"
        },
        "id": "JOMubWCgy9c7",
        "outputId": "38695baf-8457-4be3-9375-e17378ccc154"
      },
      "execution_count": 64,
      "outputs": [
        {
          "output_type": "stream",
          "name": "stdout",
          "text": [
            "rating is:  10\n",
            "rating is:  9.5\n",
            "rating is:  10\n",
            "rating is:  8\n",
            "rating is:  7.5\n",
            "rating is:  10\n",
            "rating is:  10\n"
          ]
        }
      ]
    },
    {
      "cell_type": "code",
      "source": [
        "#Write a while loop to copy the strings 'orange' of the list squares to the list new_squares. Stop and exit the loop if the value on the list is not 'orange':\n",
        "\n",
        "squares = ['orange', 'orange', 'purple', 'blue ', 'orange']\n",
        "new_squares = []\n",
        "\n",
        "i=0\n",
        "while (i < len(squares) and squares[i] ==\"orange\"):\n",
        "  new_squares.append(squares[i])\n",
        "  i = i + 1\n",
        "\n",
        "print(new_squares)\n",
        "\n",
        "\n"
      ],
      "metadata": {
        "colab": {
          "base_uri": "https://localhost:8080/"
        },
        "id": "BVcfVywP1f44",
        "outputId": "0d0f95f7-d73f-4ff4-949f-84241d729104"
      },
      "execution_count": 69,
      "outputs": [
        {
          "output_type": "stream",
          "name": "stdout",
          "text": [
            "['orange', 'orange']\n"
          ]
        }
      ]
    },
    {
      "cell_type": "markdown",
      "source": [
        "## **Functions**"
      ],
      "metadata": {
        "id": "1B2aE7q9oCTg"
      }
    },
    {
      "cell_type": "code",
      "source": [
        "# This exercise is for the functions\n",
        "\n",
        "#Complete the function f so that it returns the product of a and b. \n",
        "\n",
        "def f(a, b):\n",
        "  return a * b\n",
        "\n"
      ],
      "metadata": {
        "id": "RFDZn1OpjgV6"
      },
      "execution_count": 14,
      "outputs": []
    },
    {
      "cell_type": "code",
      "source": [
        "print(f(2, 3))"
      ],
      "metadata": {
        "colab": {
          "base_uri": "https://localhost:8080/"
        },
        "id": "T6Mg-s0Fjrw_",
        "outputId": "fc39f85f-b13e-4082-c649-423053da24de"
      },
      "execution_count": 15,
      "outputs": [
        {
          "output_type": "stream",
          "name": "stdout",
          "text": [
            "6\n"
          ]
        }
      ]
    },
    {
      "cell_type": "code",
      "source": [
        "# Complete the function g such that the input c is a list of integers and the output is the sum of all elements in the list\n",
        "\n",
        "def g(c):\n",
        "\n",
        "  mySum = 0\n",
        "  for i in c:\n",
        "      mySum = mySum +  i\n",
        "  \n",
        "  return mySum"
      ],
      "metadata": {
        "id": "h_DESCjDjx3P"
      },
      "execution_count": 16,
      "outputs": []
    },
    {
      "cell_type": "code",
      "source": [
        "myList = [1,2,3,4,5,6,7,8,9,10]\n",
        "\n",
        "print(g(myList))\n",
        "\n",
        "#Let's test the function\n",
        "\n",
        "if sum(myList) == g(myList):\n",
        "    print(\"Correct\")\n",
        "else:\n",
        "    print(\"Incorrect\")"
      ],
      "metadata": {
        "colab": {
          "base_uri": "https://localhost:8080/"
        },
        "id": "0lhlxgQmkFer",
        "outputId": "ecbbc25d-5c21-4eb3-88af-1043628deaac"
      },
      "execution_count": 20,
      "outputs": [
        {
          "output_type": "stream",
          "name": "stdout",
          "text": [
            "55\n",
            "Correct\n"
          ]
        }
      ]
    },
    {
      "cell_type": "code",
      "source": [
        "#A quiz on functions\n",
        "#Come up with a function that divides the first input by the second input:\n",
        "\n",
        "def myFunction():\n",
        "  a = int(input(\"Input the first parameter\"))\n",
        "  b = int(input(\"Now input the second parameter\"))\n",
        "\n",
        "  return (a/b)\n",
        "\n",
        "#Call to function\n",
        "\n",
        "myFunction()"
      ],
      "metadata": {
        "colab": {
          "base_uri": "https://localhost:8080/"
        },
        "id": "VnC0Q6ek3xVm",
        "outputId": "fa9cb9fc-de76-4bc9-abca-6ae3dadecb76"
      },
      "execution_count": 72,
      "outputs": [
        {
          "name": "stdout",
          "output_type": "stream",
          "text": [
            "Input the first parameter3\n",
            "Now input the second parameter43\n"
          ]
        },
        {
          "output_type": "execute_result",
          "data": {
            "text/plain": [
              "0.06976744186046512"
            ]
          },
          "metadata": {},
          "execution_count": 72
        }
      ]
    },
    {
      "cell_type": "code",
      "source": [],
      "metadata": {
        "id": "Uk-AwU2k2HNT"
      },
      "execution_count": null,
      "outputs": []
    },
    {
      "cell_type": "markdown",
      "source": [
        "## **Classes** "
      ],
      "metadata": {
        "id": "BkIkCXo7oHdw"
      }
    },
    {
      "cell_type": "code",
      "source": [
        "# This is a lesson about classes and objects:\n",
        "# Let's define a class Car with 4 atributes: make, model, colour and number of owners:\n",
        "\n",
        "class Car(object):\n",
        "  def __init__(self, make, model, color):\n",
        "    self.make = make;\n",
        "    self.model = model;\n",
        "    self.color = color;\n",
        "    self.owner_number = 0\n",
        "\n",
        "  def car_info(self):\n",
        "    print(\"make: \", self.make)\n",
        "    print(\"model: \", self.model )\n",
        "    print(\"color: \", self.color)\n",
        "    print(\"number of owners:\", self.owner_number)\n",
        "\n",
        "  def sell(self):\n",
        "    self.owner_number = self.owner_number + 1\n",
        "\n",
        "#This is the class car declaration. It's only the pattern\n",
        "\n",
        "\n"
      ],
      "metadata": {
        "id": "F72iK3W1k9K3"
      },
      "execution_count": 21,
      "outputs": []
    },
    {
      "cell_type": "code",
      "source": [
        "# Create a car Object\n",
        "\n",
        "make =\"VW\"\n",
        "model =\"Vochito\"\n",
        "color = \"blue\"\n",
        "\n",
        "myCar = Car(make, model, color)"
      ],
      "metadata": {
        "id": "2Z68FOfzmf9S"
      },
      "execution_count": 22,
      "outputs": []
    },
    {
      "cell_type": "code",
      "source": [
        "# Now we can dig in the car info\n",
        "\n",
        "myCar.car_info()"
      ],
      "metadata": {
        "colab": {
          "base_uri": "https://localhost:8080/"
        },
        "id": "aduzKkahmtB3",
        "outputId": "90db5213-ee01-438b-b921-f36ba947869f"
      },
      "execution_count": 24,
      "outputs": [
        {
          "output_type": "stream",
          "name": "stdout",
          "text": [
            "make:  VW\n",
            "model:  Vochito\n",
            "color:  blue\n",
            "number of owners: 0\n"
          ]
        }
      ]
    },
    {
      "cell_type": "code",
      "source": [
        "# Now I can simulate 5 sells of the same car\n",
        "\n",
        "for i in range(5):\n",
        "  myCar.sell()\n",
        "\n"
      ],
      "metadata": {
        "id": "L-xpB1Pym_ZP"
      },
      "execution_count": 26,
      "outputs": []
    },
    {
      "cell_type": "code",
      "source": [],
      "metadata": {
        "id": "VEf0Y01E4jQU"
      },
      "execution_count": null,
      "outputs": []
    },
    {
      "cell_type": "markdown",
      "source": [
        "## **Exceptions**"
      ],
      "metadata": {
        "id": "yoYtW5tqnur2"
      }
    },
    {
      "cell_type": "code",
      "source": [
        "# Exceptions \n",
        "# This is an exception because there's no way to divide 1 by 0\n",
        "\n",
        "1 / 0"
      ],
      "metadata": {
        "colab": {
          "base_uri": "https://localhost:8080/",
          "height": 200
        },
        "id": "BzPhdEdKnOIO",
        "outputId": "693f1115-d3dc-4c15-ef85-3c331945182a"
      },
      "execution_count": 27,
      "outputs": [
        {
          "output_type": "error",
          "ename": "ZeroDivisionError",
          "evalue": "ignored",
          "traceback": [
            "\u001b[0;31m---------------------------------------------------------------------------\u001b[0m",
            "\u001b[0;31mZeroDivisionError\u001b[0m                         Traceback (most recent call last)",
            "\u001b[0;32m<ipython-input-27-0d3291c2635a>\u001b[0m in \u001b[0;36m<module>\u001b[0;34m\u001b[0m\n\u001b[1;32m      2\u001b[0m \u001b[0;31m# This is an exception because there's no way to divide 1 by 0\u001b[0m\u001b[0;34m\u001b[0m\u001b[0;34m\u001b[0m\u001b[0;34m\u001b[0m\u001b[0m\n\u001b[1;32m      3\u001b[0m \u001b[0;34m\u001b[0m\u001b[0m\n\u001b[0;32m----> 4\u001b[0;31m \u001b[0;36m1\u001b[0m \u001b[0;34m/\u001b[0m \u001b[0;36m0\u001b[0m\u001b[0;34m\u001b[0m\u001b[0;34m\u001b[0m\u001b[0m\n\u001b[0m",
            "\u001b[0;31mZeroDivisionError\u001b[0m: division by zero"
          ]
        }
      ]
    },
    {
      "cell_type": "code",
      "source": [
        "# In this example, the variable xx is undefinded and we'll get an error\n",
        "\n",
        "y = xx + 3"
      ],
      "metadata": {
        "colab": {
          "base_uri": "https://localhost:8080/",
          "height": 200
        },
        "id": "VQMZe1VNntTn",
        "outputId": "5f71091b-b1b2-499f-ed67-e8fa744aa12d"
      },
      "execution_count": 28,
      "outputs": [
        {
          "output_type": "error",
          "ename": "NameError",
          "evalue": "ignored",
          "traceback": [
            "\u001b[0;31m---------------------------------------------------------------------------\u001b[0m",
            "\u001b[0;31mNameError\u001b[0m                                 Traceback (most recent call last)",
            "\u001b[0;32m<ipython-input-28-70bd6c09f551>\u001b[0m in \u001b[0;36m<module>\u001b[0;34m\u001b[0m\n\u001b[1;32m      1\u001b[0m \u001b[0;31m# In this example, the variable xx is undefinded and we'll get an error\u001b[0m\u001b[0;34m\u001b[0m\u001b[0;34m\u001b[0m\u001b[0;34m\u001b[0m\u001b[0m\n\u001b[1;32m      2\u001b[0m \u001b[0;34m\u001b[0m\u001b[0m\n\u001b[0;32m----> 3\u001b[0;31m \u001b[0my\u001b[0m \u001b[0;34m=\u001b[0m \u001b[0mxx\u001b[0m \u001b[0;34m+\u001b[0m \u001b[0;36m3\u001b[0m\u001b[0;34m\u001b[0m\u001b[0;34m\u001b[0m\u001b[0m\n\u001b[0m",
            "\u001b[0;31mNameError\u001b[0m: name 'xx' is not defined"
          ]
        }
      ]
    },
    {
      "cell_type": "code",
      "source": [
        "# This is another example of an error, I'm trying to access to an element that doesn't exist\n",
        "\n",
        "myList2 = [\"a\", \"b\", \"c\", \"d\"]\n",
        "\n",
        "print(myList2[6]])"
      ],
      "metadata": {
        "colab": {
          "base_uri": "https://localhost:8080/",
          "height": 131
        },
        "id": "f1P5IsQEnshh",
        "outputId": "a1c9058e-b23b-41e6-b776-b60a7d9cd104"
      },
      "execution_count": 29,
      "outputs": [
        {
          "output_type": "error",
          "ename": "SyntaxError",
          "evalue": "ignored",
          "traceback": [
            "\u001b[0;36m  File \u001b[0;32m\"<ipython-input-29-50d03eee2864>\"\u001b[0;36m, line \u001b[0;32m5\u001b[0m\n\u001b[0;31m    print(myList2[6]])\u001b[0m\n\u001b[0m                    ^\u001b[0m\n\u001b[0;31mSyntaxError\u001b[0m\u001b[0;31m:\u001b[0m invalid syntax\n"
          ]
        }
      ]
    },
    {
      "cell_type": "code",
      "source": [
        "# To handle this exceptions we use try catch block, for example:\n",
        "\n",
        "a = 1\n",
        "try:\n",
        "  b = int(input(\"Please enter a nunmber to divide a\"))\n",
        "  a = a /b\n",
        "  print(\"Sucess a=\", a)\n",
        "except:\n",
        "  print(\"There is an error\")"
      ],
      "metadata": {
        "colab": {
          "base_uri": "https://localhost:8080/"
        },
        "id": "0irGxFAAouNi",
        "outputId": "8cee959c-32dd-4423-b7db-d795293d6e1f"
      },
      "execution_count": 31,
      "outputs": [
        {
          "output_type": "stream",
          "name": "stdout",
          "text": [
            "Please enter a nunmber to divide a32\n",
            "Sucess a= 0.03125\n"
          ]
        }
      ]
    },
    {
      "cell_type": "code",
      "source": [
        "# But we can be more specific in the errors\n",
        "# for example\n",
        "\n",
        "a = 1\n",
        "\n",
        "try:\n",
        "    b = int(input(\"Please enter a number to divide a\"))\n",
        "    a = a/b\n",
        "    print(\"Success a=\",a)\n",
        "except ZeroDivisionError:\n",
        "    print(\"this number cant divide because it's 0\")\n",
        "except ValueError:\n",
        "    print(\"This is not a number\")\n",
        "except:\n",
        "    print(\"This is another error\")"
      ],
      "metadata": {
        "colab": {
          "base_uri": "https://localhost:8080/"
        },
        "id": "gGxRj6AcpFhN",
        "outputId": "ad121dcf-400d-4522-dbcb-ed78e54c620b"
      },
      "execution_count": 32,
      "outputs": [
        {
          "output_type": "stream",
          "name": "stdout",
          "text": [
            "Please enter a number to divide ad\n",
            "This is not a number\n"
          ]
        }
      ]
    },
    {
      "cell_type": "code",
      "source": [
        "# Another way to handle try catch is adding finally clause\n",
        "\n",
        "a = 1\n",
        "\n",
        "try:\n",
        "    b = int(input(\"Please enter a number to divide a\"))\n",
        "    a = a/b\n",
        "except ZeroDivisionError:\n",
        "    print(\"this number cant divide because it's 0\")\n",
        "except ValueError:\n",
        "    print(\"This is not a number\")\n",
        "except:\n",
        "    print(\"This is another type of error\")\n",
        "else:\n",
        "    print(\"success a=\",a)\n",
        "finally:\n",
        "    print(\"Processing Complete\")"
      ],
      "metadata": {
        "colab": {
          "base_uri": "https://localhost:8080/"
        },
        "id": "aTTm5KBapbIt",
        "outputId": "66fc2fdc-77de-4dfc-925e-75c87c4efc7e"
      },
      "execution_count": 34,
      "outputs": [
        {
          "output_type": "stream",
          "name": "stdout",
          "text": [
            "Please enter a number to divide a23\n",
            "success a= 0.043478260869565216\n",
            "Processing Complete\n"
          ]
        }
      ]
    }
  ]
}
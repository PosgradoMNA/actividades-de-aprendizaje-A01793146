{
  "nbformat": 4,
  "nbformat_minor": 0,
  "metadata": {
    "colab": {
      "provenance": [],
      "authorship_tag": "ABX9TyOUW8w0l1RqGM+B263dEVDQ",
      "include_colab_link": true
    },
    "kernelspec": {
      "name": "python3",
      "display_name": "Python 3"
    },
    "language_info": {
      "name": "python"
    }
  },
  "cells": [
    {
      "cell_type": "markdown",
      "metadata": {
        "id": "view-in-github",
        "colab_type": "text"
      },
      "source": [
        "<a href=\"https://colab.research.google.com/github/PosgradoMNA/actividades-de-aprendizaje-A01793146/blob/main/assignment_mod02.ipynb\" target=\"_parent\"><img src=\"https://colab.research.google.com/assets/colab-badge.svg\" alt=\"Open In Colab\"/></a>"
      ]
    },
    {
      "cell_type": "code",
      "execution_count": 1,
      "metadata": {
        "id": "tY357ZgnMfRb"
      },
      "outputs": [],
      "source": [
        "# This is my notebook for the module 2"
      ]
    },
    {
      "cell_type": "code",
      "source": [
        "# Tuples\n",
        "# "
      ],
      "metadata": {
        "id": "C-zGga2cQPGz"
      },
      "execution_count": 7,
      "outputs": []
    },
    {
      "cell_type": "code",
      "source": [
        "# I will create a tuple\n",
        "\n",
        "A = (1, 2, 3, 4)"
      ],
      "metadata": {
        "id": "cd_hF30eQoCQ"
      },
      "execution_count": 12,
      "outputs": []
    },
    {
      "cell_type": "code",
      "source": [
        "# Let's confirm what type of data is the variable tuple1\n",
        "type(A)"
      ],
      "metadata": {
        "colab": {
          "base_uri": "https://localhost:8080/"
        },
        "id": "7Fu0sO_RQ1au",
        "outputId": "256d2dd2-d0ef-42d2-d4ea-37af44a366fa"
      },
      "execution_count": 14,
      "outputs": [
        {
          "output_type": "execute_result",
          "data": {
            "text/plain": [
              "tuple"
            ]
          },
          "metadata": {},
          "execution_count": 14
        }
      ]
    },
    {
      "cell_type": "code",
      "source": [
        "#Now let's find first two elements of tuple A\n",
        "\n",
        "print(A[0:2])"
      ],
      "metadata": {
        "colab": {
          "base_uri": "https://localhost:8080/"
        },
        "id": "HXAJjI-oQ9_i",
        "outputId": "66dbc919-0ef3-497b-c8ad-1bb8e8a72f0b"
      },
      "execution_count": 16,
      "outputs": [
        {
          "output_type": "stream",
          "name": "stdout",
          "text": [
            "(1, 2)\n"
          ]
        }
      ]
    },
    {
      "cell_type": "code",
      "source": [
        "# Let's create a list\n",
        "\n",
        "B = [\"a\", \"b\", \"c\", \"d\"]"
      ],
      "metadata": {
        "id": "bVGsRLfPVLS_"
      },
      "execution_count": 17,
      "outputs": []
    },
    {
      "cell_type": "code",
      "source": [
        "# Now print the first two elements of list B\n",
        "\n",
        "print(B[0:2])"
      ],
      "metadata": {
        "colab": {
          "base_uri": "https://localhost:8080/"
        },
        "id": "DXaSXDi2WZbF",
        "outputId": "f8a124f8-46e2-4b41-cad8-14d151bc3910"
      },
      "execution_count": 18,
      "outputs": [
        {
          "output_type": "stream",
          "name": "stdout",
          "text": [
            "['a', 'b']\n"
          ]
        }
      ]
    },
    {
      "cell_type": "code",
      "source": [
        "# Let's change the first element to upper\n",
        "\n",
        "print(B[0].upper())"
      ],
      "metadata": {
        "colab": {
          "base_uri": "https://localhost:8080/"
        },
        "id": "khxt-fl7W8cx",
        "outputId": "c02d4710-2283-4056-a302-3fcd42d93245"
      },
      "execution_count": 19,
      "outputs": [
        {
          "output_type": "stream",
          "name": "stdout",
          "text": [
            "A\n"
          ]
        }
      ]
    },
    {
      "cell_type": "code",
      "source": [
        "# Let's cast a list to a set\n",
        "myList = ['A','B','C','A','B','C']\n",
        "print(type(myList))\n",
        "\n",
        "\n",
        "mySet = set(myList)\n",
        "print(type(mySet))\n",
        "\n",
        "# We can see that the list was casted into a set\n"
      ],
      "metadata": {
        "colab": {
          "base_uri": "https://localhost:8080/"
        },
        "id": "SgMvuSDuXLPn",
        "outputId": "e1c8bb2d-cb93-4c18-a1b7-3d7f66b1c847"
      },
      "execution_count": 20,
      "outputs": [
        {
          "output_type": "stream",
          "name": "stdout",
          "text": [
            "<class 'list'>\n",
            "<class 'set'>\n"
          ]
        }
      ]
    },
    {
      "cell_type": "code",
      "source": [
        "# Let's S be a set of the following elements\n",
        "S={'A','B','C'}\n",
        "\n",
        "# Add letter 'D' to S\n",
        "\n",
        "S.add('D')\n",
        "print(S)"
      ],
      "metadata": {
        "colab": {
          "base_uri": "https://localhost:8080/"
        },
        "id": "4xA5Fm1IYXz8",
        "outputId": "255b2764-fa5b-42c0-e9af-f61501b40dc7"
      },
      "execution_count": 38,
      "outputs": [
        {
          "output_type": "stream",
          "name": "stdout",
          "text": [
            "{'C', 'B', 'A', 'D'}\n"
          ]
        }
      ]
    },
    {
      "cell_type": "code",
      "source": [
        "# Suppose We have two sets: \n",
        "# A={1,2,3,4,5}\n",
        "# B={1,3,9, 12}\n",
        "# Find the intersection of A and B\n",
        "\n",
        "A={1,2,3,4,5}\n",
        "B={1,3,9, 12}\n",
        "\n",
        "A & B\n",
        "\n",
        "print(A & B)\n",
        "\n",
        "#This is equal to A.intersection(B)\n",
        "print(A.intersection(B))"
      ],
      "metadata": {
        "colab": {
          "base_uri": "https://localhost:8080/"
        },
        "id": "hw0fDYXWYmKk",
        "outputId": "c4f5b4b9-bf2d-49e3-b56f-d82f94778806"
      },
      "execution_count": 31,
      "outputs": [
        {
          "output_type": "stream",
          "name": "stdout",
          "text": [
            "{1, 3}\n",
            "{1, 3}\n"
          ]
        }
      ]
    },
    {
      "cell_type": "code",
      "source": [
        "# We can do a lot of funny things with sets operations\n",
        "# Let's find the difference between 2 sets\n",
        "\n",
        "print(A - B)\n",
        "\n",
        "# This is equal to\n",
        "\n",
        "print(A.difference(B))\n"
      ],
      "metadata": {
        "colab": {
          "base_uri": "https://localhost:8080/"
        },
        "id": "MHmCWgiGZEJ5",
        "outputId": "9bb31e11-98b1-4928-bc4f-7199a8703198"
      },
      "execution_count": 30,
      "outputs": [
        {
          "output_type": "stream",
          "name": "stdout",
          "text": [
            "{2, 4, 5}\n",
            "{2, 4, 5}\n"
          ]
        }
      ]
    },
    {
      "cell_type": "code",
      "source": [
        "# We can do some union operations\n",
        "\n",
        "# Union \n",
        "\n",
        "print(A.union(B))"
      ],
      "metadata": {
        "colab": {
          "base_uri": "https://localhost:8080/"
        },
        "id": "Hscrw0HOZe5i",
        "outputId": "19f5e8cf-d346-40ef-97aa-ea2b68f227b5"
      },
      "execution_count": 35,
      "outputs": [
        {
          "output_type": "stream",
          "name": "stdout",
          "text": [
            "{1, 2, 3, 4, 5, 9, 12}\n"
          ]
        }
      ]
    },
    {
      "cell_type": "code",
      "source": [
        "# How we can evaluate if B is superset of A?\n",
        "set(A).issuperset(B)\n",
        "\n",
        "# Or viceversa\n",
        "set(B).issuperset(A)"
      ],
      "metadata": {
        "colab": {
          "base_uri": "https://localhost:8080/"
        },
        "id": "dZQv0qf-ZvPO",
        "outputId": "b86a0561-a099-4687-b66d-526719a4057f"
      },
      "execution_count": 37,
      "outputs": [
        {
          "output_type": "execute_result",
          "data": {
            "text/plain": [
              "False"
            ]
          },
          "metadata": {},
          "execution_count": 37
        }
      ]
    }
  ]
}
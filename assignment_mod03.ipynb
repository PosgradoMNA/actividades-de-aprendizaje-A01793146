{
  "nbformat": 4,
  "nbformat_minor": 0,
  "metadata": {
    "colab": {
      "provenance": [],
      "authorship_tag": "ABX9TyMll6EbAZOlcxprVa37qvs3",
      "include_colab_link": true
    },
    "kernelspec": {
      "name": "python3",
      "display_name": "Python 3"
    },
    "language_info": {
      "name": "python"
    }
  },
  "cells": [
    {
      "cell_type": "markdown",
      "metadata": {
        "id": "view-in-github",
        "colab_type": "text"
      },
      "source": [
        "<a href=\"https://colab.research.google.com/github/PosgradoMNA/actividades-de-aprendizaje-A01793146/blob/main/assignment_mod03.ipynb\" target=\"_parent\"><img src=\"https://colab.research.google.com/assets/colab-badge.svg\" alt=\"Open In Colab\"/></a>"
      ]
    },
    {
      "cell_type": "code",
      "execution_count": 2,
      "metadata": {
        "colab": {
          "base_uri": "https://localhost:8080/"
        },
        "id": "BWANlHXcgfSJ",
        "outputId": "48b2221e-5198-4346-f70a-f29fa7eb2727"
      },
      "outputs": [
        {
          "output_type": "execute_result",
          "data": {
            "text/plain": [
              "True"
            ]
          },
          "metadata": {},
          "execution_count": 2
        }
      ],
      "source": [
        "# This is a comparision operations\n",
        "# Which is the value that produces true?\n",
        "i = 1\n",
        "i != 0\n"
      ]
    },
    {
      "cell_type": "code",
      "source": [
        "# This is branching.\n",
        "# Find the value of x that prints \"this is a\"\n",
        "\n",
        "x = \"a\"\n",
        "\n",
        "if(x ==\"a\"):\n",
        "    print(\"this is a\")\n",
        "else:\n",
        "    print(\"this is not a\")\n",
        "\n"
      ],
      "metadata": {
        "colab": {
          "base_uri": "https://localhost:8080/"
        },
        "id": "IyPP5Z-Yh-BW",
        "outputId": "7353d922-4b66-48ac-bb9a-1ea6cff305c4"
      },
      "execution_count": 3,
      "outputs": [
        {
          "output_type": "stream",
          "name": "stdout",
          "text": [
            "this is a\n"
          ]
        }
      ]
    },
    {
      "cell_type": "code",
      "source": [
        "# This exercise is for logical operatos\n",
        "# Find the vlaue of y that produces a true statement\n",
        "\n",
        "y =  9\n",
        "x = 1\n",
        "\n",
        "x > 0 and y < 10\n",
        "\n",
        "# If I set y = 10, then the statement is not valid\n"
      ],
      "metadata": {
        "colab": {
          "base_uri": "https://localhost:8080/"
        },
        "id": "7gNK0nkFiLYT",
        "outputId": "497e9996-ef9b-4bc4-f02c-2eb1fc0f4035"
      },
      "execution_count": 6,
      "outputs": [
        {
          "output_type": "execute_result",
          "data": {
            "text/plain": [
              "True"
            ]
          },
          "metadata": {},
          "execution_count": 6
        }
      ]
    },
    {
      "cell_type": "code",
      "source": [
        "# This is an exercise for loops\n",
        "# Use loops to print out the elements of the list A\n",
        "\n",
        "A = [3, 4, 5]\n",
        "\n",
        "for a in A:\n",
        "  print(a)\n"
      ],
      "metadata": {
        "colab": {
          "base_uri": "https://localhost:8080/"
        },
        "id": "FsrUhycUi4VL",
        "outputId": "9cbd9028-56a2-457e-f627-94b3b7d8f0cd"
      },
      "execution_count": 8,
      "outputs": [
        {
          "output_type": "stream",
          "name": "stdout",
          "text": [
            "3\n",
            "4\n",
            "5\n"
          ]
        }
      ]
    },
    {
      "cell_type": "code",
      "source": [
        "# Now let's check the loops with while\n",
        "# find the value of x that print out the sequence 1,2 ..., 10\n",
        "\n",
        "x = 10 \n",
        "y = 1\n",
        "\n",
        "while(y !=x):\n",
        "  print(y)\n",
        "  y=y+1\n",
        "\n"
      ],
      "metadata": {
        "colab": {
          "base_uri": "https://localhost:8080/"
        },
        "id": "a7RRHADyjIgi",
        "outputId": "b443f85c-2064-4689-c0fe-2f7f548cfc33"
      },
      "execution_count": 13,
      "outputs": [
        {
          "output_type": "stream",
          "name": "stdout",
          "text": [
            "1\n",
            "2\n",
            "3\n",
            "4\n",
            "5\n",
            "6\n",
            "7\n",
            "8\n",
            "9\n"
          ]
        }
      ]
    },
    {
      "cell_type": "code",
      "source": [
        "# This exercise is for the functions\n",
        "\n",
        "#Complete the function f so that it returns the product of a and b. \n",
        "\n",
        "def f(a, b):\n",
        "  return a * b\n",
        "\n"
      ],
      "metadata": {
        "id": "RFDZn1OpjgV6"
      },
      "execution_count": 14,
      "outputs": []
    },
    {
      "cell_type": "code",
      "source": [
        "print(f(2, 3))"
      ],
      "metadata": {
        "colab": {
          "base_uri": "https://localhost:8080/"
        },
        "id": "T6Mg-s0Fjrw_",
        "outputId": "fc39f85f-b13e-4082-c649-423053da24de"
      },
      "execution_count": 15,
      "outputs": [
        {
          "output_type": "stream",
          "name": "stdout",
          "text": [
            "6\n"
          ]
        }
      ]
    },
    {
      "cell_type": "code",
      "source": [
        "# Complete the function g such that the input c is a list of integers and the output is the sum of all elements in the list\n",
        "\n",
        "def g(c):\n",
        "\n",
        "  mySum = 0\n",
        "  for i in c:\n",
        "      mySum = mySum +  i\n",
        "  \n",
        "  return mySum"
      ],
      "metadata": {
        "id": "h_DESCjDjx3P"
      },
      "execution_count": 16,
      "outputs": []
    },
    {
      "cell_type": "code",
      "source": [
        "myList = [1,2,3,4,5,6,7,8,9,10]\n",
        "\n",
        "print(g(myList))\n",
        "\n",
        "#Let's test the function\n",
        "\n",
        "if sum(myList) == g(myList):\n",
        "    print(\"Correct\")\n",
        "else:\n",
        "    print(\"Incorrect\")"
      ],
      "metadata": {
        "colab": {
          "base_uri": "https://localhost:8080/"
        },
        "id": "0lhlxgQmkFer",
        "outputId": "ecbbc25d-5c21-4eb3-88af-1043628deaac"
      },
      "execution_count": 20,
      "outputs": [
        {
          "output_type": "stream",
          "name": "stdout",
          "text": [
            "55\n",
            "Correct\n"
          ]
        }
      ]
    }
  ]
}
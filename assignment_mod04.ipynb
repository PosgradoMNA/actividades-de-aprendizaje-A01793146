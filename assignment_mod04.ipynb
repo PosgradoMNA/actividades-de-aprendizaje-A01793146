{
  "cells": [
    {
      "cell_type": "markdown",
      "metadata": {
        "colab_type": "text",
        "id": "view-in-github"
      },
      "source": [
        "<a href=\"https://colab.research.google.com/github/PosgradoMNA/actividades-de-aprendizaje-A01793146/blob/main/assignment_mod04.ipynb\" target=\"_parent\"><img src=\"https://colab.research.google.com/assets/colab-badge.svg\" alt=\"Open In Colab\"/></a>"
      ]
    },
    {
      "cell_type": "markdown",
      "metadata": {
        "colab": {
          "base_uri": "https://localhost:8080/"
        },
        "id": "LzUSMM79NR9P",
        "outputId": "0e6cb421-1096-426a-b31a-f61d059def81"
      },
      "source": [
        "## Module 4\n",
        "### In this lesson I'll learn how to open a text file\n"
      ]
    },
    {
      "cell_type": "code",
      "execution_count": 6,
      "metadata": {
        "id": "mxM_WppZPMFx"
      },
      "outputs": [
        {
          "data": {
            "text/plain": [
              "('Example1.txt', <http.client.HTTPMessage at 0x2583236ac50>)"
            ]
          },
          "execution_count": 6,
          "metadata": {},
          "output_type": "execute_result"
        }
      ],
      "source": [
        "#I'll run evertything in local\n",
        "\n",
        "\n",
        "import urllib.request\n",
        "url = 'https://cf-courses-data.s3.us.cloud-object-storage.appdomain.cloud/IBMDeveloperSkillsNetwork-PY0101EN-SkillsNetwork/labs/Module%204/data/example1.txt'\n",
        "filename = 'Example1.txt'\n",
        "urllib.request.urlretrieve(url, filename)\n"
      ]
    },
    {
      "cell_type": "code",
      "execution_count": 8,
      "metadata": {},
      "outputs": [],
      "source": [
        "# Once I have my file, I can run some operations\n",
        "\n",
        "example = \"Example1.txt\"\n",
        "fileOne = open(example, \"r\")"
      ]
    },
    {
      "cell_type": "code",
      "execution_count": 9,
      "metadata": {},
      "outputs": [
        {
          "data": {
            "text/plain": [
              "'Example1.txt'"
            ]
          },
          "execution_count": 9,
          "metadata": {},
          "output_type": "execute_result"
        }
      ],
      "source": [
        "# How I can print the path?\n",
        "\n",
        "fileOne.name"
      ]
    },
    {
      "cell_type": "code",
      "execution_count": 10,
      "metadata": {},
      "outputs": [
        {
          "data": {
            "text/plain": [
              "'r'"
            ]
          },
          "execution_count": 10,
          "metadata": {},
          "output_type": "execute_result"
        }
      ],
      "source": [
        "# How I can review the open file mode?\n",
        "\n",
        "fileOne.mode "
      ]
    },
    {
      "cell_type": "code",
      "execution_count": 13,
      "metadata": {},
      "outputs": [
        {
          "name": "stdout",
          "output_type": "stream",
          "text": [
            "\n"
          ]
        }
      ],
      "source": [
        "# Now I want to read the file\n",
        "\n",
        "FileContent = fileOne.read()\n",
        "FileContent \n",
        "\n"
      ]
    },
    {
      "cell_type": "code",
      "execution_count": 14,
      "metadata": {},
      "outputs": [
        {
          "name": "stdout",
          "output_type": "stream",
          "text": [
            "\n"
          ]
        }
      ],
      "source": [
        "# And it is posible to print the file's content\n",
        "\n",
        "print(FileContent)"
      ]
    },
    {
      "cell_type": "code",
      "execution_count": 15,
      "metadata": {},
      "outputs": [
        {
          "data": {
            "text/plain": [
              "str"
            ]
          },
          "execution_count": 15,
          "metadata": {},
          "output_type": "execute_result"
        }
      ],
      "source": [
        "# I want know the data type\n",
        "\n",
        "type(FileContent)"
      ]
    },
    {
      "cell_type": "code",
      "execution_count": null,
      "metadata": {},
      "outputs": [],
      "source": [
        "# A good practice is always close the file\n",
        "\n",
        "fileOne.close()\n",
        "\n"
      ]
    },
    {
      "cell_type": "code",
      "execution_count": 16,
      "metadata": {},
      "outputs": [
        {
          "name": "stdout",
          "output_type": "stream",
          "text": [
            "This is line 1 \n",
            "This is line 2\n",
            "This is line 3\n"
          ]
        }
      ],
      "source": [
        "# This is a better way to handle a file:\n",
        "\n",
        "with open(\"Example1.txt\", \"r\") as fileTwo:\n",
        "    FileContent = fileTwo.read()\n",
        "    print(FileContent)"
      ]
    },
    {
      "cell_type": "code",
      "execution_count": 17,
      "metadata": {},
      "outputs": [
        {
          "data": {
            "text/plain": [
              "True"
            ]
          },
          "execution_count": 17,
          "metadata": {},
          "output_type": "execute_result"
        }
      ],
      "source": [
        "# You always need to check if the file is already closed\n",
        "\n",
        "fileTwo.closed"
      ]
    },
    {
      "cell_type": "code",
      "execution_count": 19,
      "metadata": {},
      "outputs": [
        {
          "name": "stdout",
          "output_type": "stream",
          "text": [
            "Th\n",
            "is is\n"
          ]
        }
      ],
      "source": [
        "# How to read the first n characters??\n",
        "\n",
        "with open(\"Example1.txt\", \"r\") as file3:\n",
        "    print(file3.read(2))\n",
        "    print(file3.read(5))"
      ]
    },
    {
      "cell_type": "code",
      "execution_count": 26,
      "metadata": {},
      "outputs": [
        {
          "name": "stdout",
          "output_type": "stream",
          "text": [
            "This is the first line: This is line 1 \n",
            "\n"
          ]
        }
      ],
      "source": [
        "# I can read a single line, for instance:\n",
        "\n",
        "with open(\"Example1.txt\",\"r\") as file4:\n",
        "    print(f\"This is the first line: {file4.readline()}\")"
      ]
    },
    {
      "cell_type": "code",
      "execution_count": 27,
      "metadata": {},
      "outputs": [
        {
          "name": "stdout",
          "output_type": "stream",
          "text": [
            "Iteration number 0  :  This is line 1 \n",
            "\n",
            "Iteration number 2  :  This is line 2\n",
            "\n",
            "Iteration number 2  :  This is line 3\n"
          ]
        }
      ],
      "source": [
        "# I can even use a loop to read all lines. (This is not recommended)\n",
        "\n",
        "with open(\"Example1.txt\", \"r\") as file5:\n",
        "\n",
        "    i = 0\n",
        "\n",
        "    for myline in file5:\n",
        "        print(\"Iteration number\", str(i), \" : \", myline)\n",
        "        i = 1 + 1"
      ]
    },
    {
      "cell_type": "code",
      "execution_count": 30,
      "metadata": {},
      "outputs": [
        {
          "name": "stdout",
          "output_type": "stream",
          "text": [
            "['This is line 1 \\n', 'This is line 2\\n', 'This is line 3']\n",
            "This is line 3\n"
          ]
        }
      ],
      "source": [
        "# How to read all lines and save them into a list?\n",
        "\n",
        "with open(\"Example1.txt\", \"r\") as file6:\n",
        "\n",
        "    mylist = file6.readlines()\n",
        "\n",
        "print(mylist)\n",
        "\n",
        "# Print the third one \n",
        "\n",
        "print(mylist[2])"
      ]
    }
  ],
  "metadata": {
    "colab": {
      "include_colab_link": true,
      "name": "assignment01.ipynb",
      "provenance": []
    },
    "kernelspec": {
      "display_name": "Python 3.10.6 64-bit (microsoft store)",
      "language": "python",
      "name": "python3"
    },
    "language_info": {
      "codemirror_mode": {
        "name": "ipython",
        "version": 3
      },
      "file_extension": ".py",
      "mimetype": "text/x-python",
      "name": "python",
      "nbconvert_exporter": "python",
      "pygments_lexer": "ipython3",
      "version": "3.10.6"
    },
    "vscode": {
      "interpreter": {
        "hash": "32a3e530000ba53acf1932123aae5e6f99e69a5f3504c7f27c942507bf3b5c74"
      }
    }
  },
  "nbformat": 4,
  "nbformat_minor": 0
}

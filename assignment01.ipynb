{
  "nbformat": 4,
  "nbformat_minor": 0,
  "metadata": {
    "colab": {
      "name": "assignment01.ipynb",
      "provenance": [],
      "include_colab_link": true
    },
    "kernelspec": {
      "name": "python3",
      "display_name": "Python 3"
    },
    "language_info": {
      "name": "python"
    }
  },
  "cells": [
    {
      "cell_type": "markdown",
      "metadata": {
        "id": "view-in-github",
        "colab_type": "text"
      },
      "source": [
        "<a href=\"https://colab.research.google.com/github/PosgradoMNA/actividades-de-aprendizaje-A01793146/blob/main/assignment01.ipynb\" target=\"_parent\"><img src=\"https://colab.research.google.com/assets/colab-badge.svg\" alt=\"Open In Colab\"/></a>"
      ]
    },
    {
      "cell_type": "code",
      "execution_count": null,
      "metadata": {
        "id": "LzUSMM79NR9P",
        "outputId": "0e6cb421-1096-426a-b31a-f61d059def81",
        "colab": {
          "base_uri": "https://localhost:8080/"
        }
      },
      "outputs": [
        {
          "output_type": "stream",
          "name": "stdout",
          "text": [
            "assignment01 for GitJobish03 and edited in git, and 18\n"
          ]
        }
      ],
      "source": [
        "# This is the first Week"
      ]
    },
    {
      "cell_type": "code",
      "source": [
        "# My first program\n",
        "\n",
        "print(\"Hello world!\")"
      ],
      "metadata": {
        "id": "mxM_WppZPMFx",
        "colab": {
          "base_uri": "https://localhost:8080/"
        },
        "outputId": "e5234e50-91c5-46a2-99cf-927ff0ff8679"
      },
      "execution_count": 1,
      "outputs": [
        {
          "output_type": "stream",
          "name": "stdout",
          "text": [
            "Hello world!\n"
          ]
        }
      ]
    },
    {
      "cell_type": "code",
      "source": [
        "# Check my python version\n",
        "\n",
        "import sys\n",
        "\n",
        "print(sys.version)"
      ],
      "metadata": {
        "id": "PedWcJczHqyv",
        "outputId": "690b76ad-aaf1-46a0-d599-c2187eb6d142",
        "colab": {
          "base_uri": "https://localhost:8080/"
        }
      },
      "execution_count": 12,
      "outputs": [
        {
          "output_type": "stream",
          "name": "stdout",
          "text": [
            "3.7.14 (default, Sep  8 2022, 00:06:44) \n",
            "[GCC 7.5.0]\n"
          ]
        }
      ]
    },
    {
      "cell_type": "code",
      "source": [
        "# Understand variable types\n",
        "\n",
        "print(type(1.0))"
      ],
      "metadata": {
        "id": "jx5eFrMyGYvF",
        "outputId": "5fc63d9f-af52-4faf-a59d-ba53ec98556b",
        "colab": {
          "base_uri": "https://localhost:8080/"
        }
      },
      "execution_count": 2,
      "outputs": [
        {
          "output_type": "stream",
          "name": "stdout",
          "text": [
            "<class 'float'>\n"
          ]
        }
      ]
    },
    {
      "cell_type": "code",
      "source": [
        "# Cast a value to Boolean\n",
        "\n",
        "bool(1)"
      ],
      "metadata": {
        "id": "9Iy7_F43Ghp5",
        "outputId": "cc41a4b7-f829-4e2f-f087-b153849633bc",
        "colab": {
          "base_uri": "https://localhost:8080/"
        }
      },
      "execution_count": 3,
      "outputs": [
        {
          "output_type": "execute_result",
          "data": {
            "text/plain": [
              "True"
            ]
          },
          "metadata": {},
          "execution_count": 3
        }
      ]
    },
    {
      "cell_type": "code",
      "source": [
        "# This is an expression\n",
        "\n",
        "50 -60 "
      ],
      "metadata": {
        "id": "eVaHdvrgGtqg",
        "outputId": "17cbfd0d-6a15-456a-f526-d3a27a1c049b",
        "colab": {
          "base_uri": "https://localhost:8080/"
        }
      },
      "execution_count": 4,
      "outputs": [
        {
          "output_type": "execute_result",
          "data": {
            "text/plain": [
              "-10"
            ]
          },
          "metadata": {},
          "execution_count": 4
        }
      ]
    },
    {
      "cell_type": "code",
      "source": [
        "# This is another expression\n",
        "\n",
        "10 * 200"
      ],
      "metadata": {
        "id": "EoYLlTtqGw4h",
        "outputId": "75617bf3-f47b-4943-8c8a-949a7a96dc17",
        "colab": {
          "base_uri": "https://localhost:8080/"
        }
      },
      "execution_count": 5,
      "outputs": [
        {
          "output_type": "execute_result",
          "data": {
            "text/plain": [
              "2000"
            ]
          },
          "metadata": {},
          "execution_count": 5
        }
      ]
    },
    {
      "cell_type": "code",
      "source": [
        "# There are multiple operations\n",
        "#add \n",
        "3 + 4\n",
        "#substract\n",
        "50 -2\n"
      ],
      "metadata": {
        "id": "LUo1IwP1G0MX",
        "outputId": "2d68ebb9-d775-4a53-a555-6cc4a09cf476",
        "colab": {
          "base_uri": "https://localhost:8080/"
        }
      },
      "execution_count": 6,
      "outputs": [
        {
          "output_type": "execute_result",
          "data": {
            "text/plain": [
              "48"
            ]
          },
          "metadata": {},
          "execution_count": 6
        }
      ]
    },
    {
      "cell_type": "code",
      "source": [
        "# This is a variable. A piece of data reserved in memory\n",
        "\n",
        "x = 43 + 20  / 32 \n",
        "print(x)\n",
        "\n",
        "# We can make some operations with different variables\n",
        "# Let's say y = 10\n",
        "\n",
        "y = 10\n",
        "\n",
        "# and then multiply y times x\n",
        "\n",
        "y * x\n",
        "\n"
      ],
      "metadata": {
        "id": "ITZdM7KkG8fW",
        "outputId": "90c4e84f-9e76-4138-f447-37396b680567",
        "colab": {
          "base_uri": "https://localhost:8080/"
        }
      },
      "execution_count": 11,
      "outputs": [
        {
          "output_type": "stream",
          "name": "stdout",
          "text": [
            "43.625\n"
          ]
        },
        {
          "output_type": "execute_result",
          "data": {
            "text/plain": [
              "436.25"
            ]
          },
          "metadata": {},
          "execution_count": 11
        }
      ]
    },
    {
      "cell_type": "code",
      "source": [
        "# "
      ],
      "metadata": {
        "id": "XEMwCIVcHlol"
      },
      "execution_count": null,
      "outputs": []
    }
  ]
}
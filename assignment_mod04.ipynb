{
  "cells": [
    {
      "cell_type": "markdown",
      "metadata": {
        "colab_type": "text",
        "id": "view-in-github"
      },
      "source": [
        "<a href=\"https://colab.research.google.com/github/PosgradoMNA/actividades-de-aprendizaje-A01793146/blob/main/assignment_mod04.ipynb\" target=\"_parent\"><img src=\"https://colab.research.google.com/assets/colab-badge.svg\" alt=\"Open In Colab\"/></a>"
      ]
    },
    {
      "cell_type": "markdown",
      "metadata": {
        "colab": {
          "base_uri": "https://localhost:8080/"
        },
        "id": "LzUSMM79NR9P",
        "outputId": "0e6cb421-1096-426a-b31a-f61d059def81"
      },
      "source": [
        "## Module 4\n",
        "### In this lesson I'll learn how to open a text file\n"
      ]
    },
    {
      "cell_type": "code",
      "execution_count": 6,
      "metadata": {
        "id": "mxM_WppZPMFx"
      },
      "outputs": [
        {
          "data": {
            "text/plain": [
              "('Example1.txt', <http.client.HTTPMessage at 0x259d3b473a0>)"
            ]
          },
          "execution_count": 6,
          "metadata": {},
          "output_type": "execute_result"
        }
      ],
      "source": [
        "#I'll run evertything in local\n",
        "\n",
        "\n",
        "import urllib.request\n",
        "url = 'https://cf-courses-data.s3.us.cloud-object-storage.appdomain.cloud/IBMDeveloperSkillsNetwork-PY0101EN-SkillsNetwork/labs/Module%204/data/example1.txt'\n",
        "filename = 'Example1.txt'\n",
        "urllib.request.urlretrieve(url, filename)\n"
      ]
    },
    {
      "cell_type": "code",
      "execution_count": 7,
      "metadata": {},
      "outputs": [],
      "source": [
        "# Once I have my file, I can run some operations\n",
        "\n",
        "example = \"Example1.txt\"\n",
        "fileOne = open(example, \"r\")"
      ]
    },
    {
      "cell_type": "code",
      "execution_count": 8,
      "metadata": {},
      "outputs": [
        {
          "data": {
            "text/plain": [
              "'Example1.txt'"
            ]
          },
          "execution_count": 8,
          "metadata": {},
          "output_type": "execute_result"
        }
      ],
      "source": [
        "# How I can print the path?\n",
        "\n",
        "fileOne.name"
      ]
    },
    {
      "cell_type": "code",
      "execution_count": 9,
      "metadata": {},
      "outputs": [
        {
          "data": {
            "text/plain": [
              "'r'"
            ]
          },
          "execution_count": 9,
          "metadata": {},
          "output_type": "execute_result"
        }
      ],
      "source": [
        "# How I can review the open file mode?\n",
        "\n",
        "fileOne.mode "
      ]
    },
    {
      "cell_type": "code",
      "execution_count": 10,
      "metadata": {},
      "outputs": [
        {
          "data": {
            "text/plain": [
              "'This is line 1 \\nThis is line 2\\nThis is line 3'"
            ]
          },
          "execution_count": 10,
          "metadata": {},
          "output_type": "execute_result"
        }
      ],
      "source": [
        "# Now I want to read the file\n",
        "\n",
        "FileContent = fileOne.read()\n",
        "FileContent \n",
        "\n"
      ]
    },
    {
      "cell_type": "code",
      "execution_count": 11,
      "metadata": {},
      "outputs": [
        {
          "name": "stdout",
          "output_type": "stream",
          "text": [
            "This is line 1 \n",
            "This is line 2\n",
            "This is line 3\n"
          ]
        }
      ],
      "source": [
        "# And it is posible to print the file's content\n",
        "\n",
        "print(FileContent)"
      ]
    },
    {
      "cell_type": "code",
      "execution_count": 12,
      "metadata": {},
      "outputs": [
        {
          "data": {
            "text/plain": [
              "str"
            ]
          },
          "execution_count": 12,
          "metadata": {},
          "output_type": "execute_result"
        }
      ],
      "source": [
        "# I want know the data type\n",
        "\n",
        "type(FileContent)"
      ]
    },
    {
      "cell_type": "code",
      "execution_count": 13,
      "metadata": {},
      "outputs": [],
      "source": [
        "# A good practice is always close the file\n",
        "\n",
        "fileOne.close()\n",
        "\n"
      ]
    },
    {
      "cell_type": "code",
      "execution_count": 14,
      "metadata": {},
      "outputs": [
        {
          "name": "stdout",
          "output_type": "stream",
          "text": [
            "This is line 1 \n",
            "This is line 2\n",
            "This is line 3\n"
          ]
        }
      ],
      "source": [
        "# This is a better way to handle a file:\n",
        "\n",
        "with open(\"Example1.txt\", \"r\") as fileTwo:\n",
        "    FileContent = fileTwo.read()\n",
        "    print(FileContent)"
      ]
    },
    {
      "cell_type": "code",
      "execution_count": 15,
      "metadata": {},
      "outputs": [
        {
          "data": {
            "text/plain": [
              "True"
            ]
          },
          "execution_count": 15,
          "metadata": {},
          "output_type": "execute_result"
        }
      ],
      "source": [
        "# You always need to check if the file is already closed\n",
        "\n",
        "fileTwo.closed"
      ]
    },
    {
      "cell_type": "code",
      "execution_count": 16,
      "metadata": {},
      "outputs": [
        {
          "name": "stdout",
          "output_type": "stream",
          "text": [
            "Th\n",
            "is is\n"
          ]
        }
      ],
      "source": [
        "# How to read the first n characters??\n",
        "\n",
        "with open(\"Example1.txt\", \"r\") as file3:\n",
        "    print(file3.read(2))\n",
        "    print(file3.read(5))"
      ]
    },
    {
      "cell_type": "code",
      "execution_count": 17,
      "metadata": {},
      "outputs": [
        {
          "name": "stdout",
          "output_type": "stream",
          "text": [
            "This is the first line: This is line 1 \n",
            "\n"
          ]
        }
      ],
      "source": [
        "# I can read a single line, for instance:\n",
        "\n",
        "with open(\"Example1.txt\",\"r\") as file4:\n",
        "    print(f\"This is the first line: {file4.readline()}\")"
      ]
    },
    {
      "cell_type": "code",
      "execution_count": 18,
      "metadata": {},
      "outputs": [
        {
          "name": "stdout",
          "output_type": "stream",
          "text": [
            "Iteration number 0  :  This is line 1 \n",
            "\n",
            "Iteration number 2  :  This is line 2\n",
            "\n",
            "Iteration number 2  :  This is line 3\n"
          ]
        }
      ],
      "source": [
        "# I can even use a loop to read all lines. (This is not recommended)\n",
        "\n",
        "with open(\"Example1.txt\", \"r\") as file5:\n",
        "\n",
        "    i = 0\n",
        "\n",
        "    for myline in file5:\n",
        "        print(\"Iteration number\", str(i), \" : \", myline)\n",
        "        i = 1 + 1"
      ]
    },
    {
      "cell_type": "code",
      "execution_count": 19,
      "metadata": {},
      "outputs": [
        {
          "name": "stdout",
          "output_type": "stream",
          "text": [
            "['This is line 1 \\n', 'This is line 2\\n', 'This is line 3']\n",
            "This is line 3\n"
          ]
        }
      ],
      "source": [
        "# How to read all lines and save them into a list?\n",
        "\n",
        "with open(\"Example1.txt\", \"r\") as file6:\n",
        "\n",
        "    mylist = file6.readlines()\n",
        "\n",
        "print(mylist)\n",
        "\n",
        "# Print the third one \n",
        "\n",
        "print(mylist[2])"
      ]
    },
    {
      "cell_type": "markdown",
      "metadata": {},
      "source": [
        "## Now I will learn how to write a file\n"
      ]
    },
    {
      "cell_type": "code",
      "execution_count": 20,
      "metadata": {},
      "outputs": [],
      "source": [
        "# For example, I want to write a line in a file\n",
        "\n",
        "example2 = \"example2.txt\"\n",
        "\n",
        "with open(example2, \"w\") as writefile:\n",
        "    writefile.write(\"This is a test\")\n",
        "\n",
        "    "
      ]
    },
    {
      "cell_type": "code",
      "execution_count": 21,
      "metadata": {},
      "outputs": [
        {
          "name": "stdout",
          "output_type": "stream",
          "text": [
            "This is a test\n"
          ]
        }
      ],
      "source": [
        "# Then I will read my new file \n",
        "\n",
        "with open(\"example2.txt\", \"r\") as readmyfile:\n",
        "    print(readmyfile.readline())"
      ]
    },
    {
      "cell_type": "code",
      "execution_count": 22,
      "metadata": {},
      "outputs": [],
      "source": [
        "# It is posible to write several lines\n",
        "\n",
        "with open(example2, \"w\") as file2:\n",
        "    file2.write(\"One line\\n\")\n",
        "    file2.write(\"Another line\\n\")\n",
        "\n",
        "    "
      ]
    },
    {
      "cell_type": "code",
      "execution_count": 23,
      "metadata": {},
      "outputs": [
        {
          "name": "stdout",
          "output_type": "stream",
          "text": [
            "One line\n",
            "Another line\n",
            "\n"
          ]
        }
      ],
      "source": [
        "# And read all lines\n",
        "\n",
        "with open(example2, \"r\") as readfile2:\n",
        "    print(readfile2.read())"
      ]
    },
    {
      "cell_type": "code",
      "execution_count": 24,
      "metadata": {},
      "outputs": [
        {
          "name": "stdout",
          "output_type": "stream",
          "text": [
            "This is the first line\n",
            "\n",
            "This is the second line \n",
            "\n"
          ]
        }
      ],
      "source": [
        "# We can write a list in a file:\n",
        "\n",
        "myLines = ['This is the first line\\n', 'This is the second line \\n']\n",
        "with open(example2, \"w\") as writefile2:\n",
        "\n",
        "    for line in myLines:\n",
        "        writefile2.write(line)\n",
        "        print(line)"
      ]
    },
    {
      "cell_type": "code",
      "execution_count": 25,
      "metadata": {},
      "outputs": [
        {
          "name": "stdout",
          "output_type": "stream",
          "text": [
            "This is the first line\n",
            "This is the second line \n",
            "\n"
          ]
        }
      ],
      "source": [
        "# Let's verify if this was ok\n",
        "\n",
        "with open(example2, \"r\") as readfile3:\n",
        "    print(readfile3.read())"
      ]
    },
    {
      "cell_type": "code",
      "execution_count": 26,
      "metadata": {},
      "outputs": [
        {
          "name": "stdout",
          "output_type": "stream",
          "text": [
            "This is the first line\n",
            "This is the second line \n",
            "This is a new line \n",
            "This is another new line \n",
            "And this another\n"
          ]
        }
      ],
      "source": [
        "# Let's append some lines to an existing file\n",
        "\n",
        "with open(example2, \"a\") as appendfile2:\n",
        "    appendfile2.write(\"This is a new line \\n\")\n",
        "    appendfile2.write(\"This is another new line \\n\")\n",
        "    appendfile2.write(\"And this another\")\n",
        "\n"
      ]
    },
    {
      "cell_type": "code",
      "execution_count": 27,
      "metadata": {},
      "outputs": [
        {
          "name": "stdout",
          "output_type": "stream",
          "text": [
            "This is the first line\n",
            "This is the second line \n",
            "This is a new line \n",
            "This is another new line \n",
            "And this another\n"
          ]
        }
      ],
      "source": [
        "\n",
        "# Let's verify this\n",
        "\n",
        "with open(example2, \"r\") as checkfile:\n",
        "    print(checkfile.read())"
      ]
    },
    {
      "cell_type": "code",
      "execution_count": 28,
      "metadata": {},
      "outputs": [
        {
          "name": "stdout",
          "output_type": "stream",
          "text": [
            "My location is 0\n",
            "Read nothing\n",
            "\\My new location is: 0\n",
            "Read nothing\n",
            "The new location is: 0\n"
          ]
        }
      ],
      "source": [
        "# There are 3 extra modes to open a file:\n",
        "# r+ reading and writing\n",
        "# w+ writing and reading\n",
        "# a+ appending and reading\n",
        "\n",
        "# Let's deepen in a+\n",
        "\n",
        "with open('example3.txt', 'a+') as newfileFora:\n",
        "\n",
        "    print(f\"My location is {newfileFora.tell()}\")\n",
        "\n",
        "    data = newfileFora.read()\n",
        "\n",
        "    # this is to validate if the file is empty\n",
        "    # \n",
        "    if not (data):\n",
        "        print(\"Read nothing\") \n",
        "    else:\n",
        "        print(newfileFora.read())\n",
        "\n",
        "    # Now let's move 0 bytes to the very begining of the file\n",
        "\n",
        "    newfileFora.seek(0, 0)\n",
        "\n",
        "       \n",
        "    print(\"\\My new location is: {}\".format(newfileFora.tell()))\n",
        "    data = newfileFora.read()\n",
        "    if (not data): \n",
        "            print('Read nothing') \n",
        "    else: \n",
        "            print(data)\n",
        "    \n",
        "    print(\"The new location is: {}\".format(newfileFora.tell()) )\n",
        "\n",
        "\n"
      ]
    },
    {
      "cell_type": "code",
      "execution_count": 29,
      "metadata": {},
      "outputs": [
        {
          "name": "stdout",
          "output_type": "stream",
          "text": [
            "my line 1\n",
            "my line 2\n",
            "my line 3\n",
            "this is the end\n",
            "\n"
          ]
        }
      ],
      "source": [
        "# Let's deepen w+ and r+ modes\n",
        "\n",
        "with open('example3.txt', 'r+') as mytestwritefile:\n",
        "\n",
        "    data = mytestwritefile.readlines()\n",
        "    mytestwritefile.seek(0,0) # this is to write at the begining of the line\n",
        "   \n",
        "    mytestwritefile.write(\"my line 1\" + \"\\n\")\n",
        "    mytestwritefile.write(\"my line 2\" + \"\\n\")\n",
        "    mytestwritefile.write(\"my line 3\" + \"\\n\")\n",
        "    mytestwritefile.write(\"this is the end\\n\")\n",
        "    \n",
        "    #mytestwritefile.truncate()\n",
        "    mytestwritefile.seek(0,0)\n",
        "    print(mytestwritefile.read())"
      ]
    },
    {
      "cell_type": "code",
      "execution_count": 31,
      "metadata": {},
      "outputs": [],
      "source": [
        "# How to copy a file\n",
        "\n",
        "# In this exercise I'll import a new library: randint\n",
        "\n",
        "from random import randint as rnd\n",
        "\n",
        "memReg = 'miembros.txt'\n",
        "exReg = 'inactivos.txt'\n",
        "fee =('yes','no')\n",
        "\n",
        "def genFiles(current,old):\n",
        "    with open(current,'w+') as writefile: \n",
        "        writefile.write('membresia activa sin fecha  \\n')\n",
        "        data = \"{:^13}  {:<11}  {:<6}\\n\"\n",
        "\n",
        "        for rowno in range(20):\n",
        "            date = str(rnd(2015,2020))+ '-' + str(rnd(1,12))+'-'+str(rnd(1,25))\n",
        "            writefile.write(data.format(rnd(10000,99999),date,fee[rnd(0,1)]))\n",
        "\n",
        "\n",
        "    with open(old,'w+') as writefile: \n",
        "        writefile.write('membresia activa sin fecha   \\n')\n",
        "        data = \"{:^13}  {:<11}  {:<6}\\n\"\n",
        "        for rowno in range(3):\n",
        "            date = str(rnd(2015,2020))+ '-' + str(rnd(1,12))+'-'+str(rnd(1,25))\n",
        "            writefile.write(data.format(rnd(10000,99999),date,fee[1]))\n",
        "\n",
        "\n",
        "genFiles(memReg,exReg)\n"
      ]
    },
    {
      "cell_type": "code",
      "execution_count": null,
      "metadata": {},
      "outputs": [],
      "source": []
    },
    {
      "cell_type": "code",
      "execution_count": 34,
      "metadata": {},
      "outputs": [
        {
          "name": "stdout",
          "output_type": "stream",
          "text": [
            "Active Members: \n",
            "\n",
            "\n",
            "membresia activa sin fecha  \n",
            "    48354      2016-11-17   yes   \n",
            "    48434      2018-3-20    yes   \n",
            "    74918      2017-12-19   yes   \n",
            "    55147      2020-7-3     yes   \n",
            "    38922      2016-8-8     yes   \n",
            "    50357      2018-3-3     yes   \n",
            "    43463      2017-10-8    yes   \n",
            "    57271      2016-10-7    yes   \n",
            "    10547      2018-6-4     yes   \n",
            "    96222      2020-6-8     yes   \n",
            "\n",
            "Inactive Members: \n",
            "\n",
            "\n",
            "membresia activa sin fecha   \n",
            "    19138      2018-2-25    no    \n",
            "    48449      2016-3-10    no    \n",
            "    39649      2015-2-1     no    \n",
            "    83022      2019-11-15   no    \n",
            "    90805      2015-1-12    no    \n",
            "    77705      2018-9-5     no    \n",
            "    88006      2019-2-16    no    \n",
            "    79344      2017-11-19   no    \n",
            "    14919      2020-11-3    no    \n",
            "    64278      2015-12-13   no    \n",
            "    68838      2020-3-2     no    \n",
            "    54966      2020-7-5     no    \n",
            "    33991      2019-10-16   no    \n",
            "\n"
          ]
        }
      ],
      "source": [
        "# This is the final exercise. I need to implement the cleanfiles function\n",
        "# This is what has to be done:\n",
        "# TODO: Open the currentMem file as in r+ mode\n",
        "        #TODO: Open the exMem file in a+ mode\n",
        "\n",
        "        #TODO: Read each member in the currentMem (1 member per row) file into a list.\n",
        "        # Hint: Recall that the first line in the file is the header.\n",
        "\n",
        "        #TODO: iterate through the members and create a new list of the innactive members\n",
        "\n",
        "        # Go to the beginning of the currentMem file\n",
        "        # TODO: Iterate through the members list. \n",
        "        # If a member is inactive, add them to exMem, otherwise write them into currentMem\n",
        "def cleanFiles(currentMem,exMem):\n",
        "\n",
        "    with open(currentMem,'r+') as mywriteFile: \n",
        "\n",
        "        with open(exMem,'a+') as myAppendFile:\n",
        "           \n",
        "            mywriteFile.seek(0)\n",
        "            members = mywriteFile.readlines()\n",
        "           \n",
        "            header = members[0]\n",
        "            # This is just to remove the header\n",
        "            members.pop(0)\n",
        "\n",
        "            # This is more elegant                \n",
        "            inactive = [member for member in members if ('no' in member)]\n",
        "\n",
        "            mywriteFile.seek(0) \n",
        "            mywriteFile.write(header)\n",
        "            for member in members:\n",
        "                if (member in inactive):\n",
        "                    myAppendFile.write(member)\n",
        "                else:\n",
        "                    mywriteFile.write(member)      \n",
        "            mywriteFile.truncate()\n",
        "                \n",
        "\n",
        "# And finally:\n",
        "                \n",
        "memReg = 'miembros.txt'\n",
        "exReg = 'inactivos.txt'\n",
        "cleanFiles(memReg,exReg)\n",
        "\n",
        "headers = \"Membership No  Date Joined  Active  \\n\"\n",
        "\n",
        "with open(memReg,'r') as readFile:\n",
        "    print(\"Active Members: \\n\\n\")\n",
        "    print(readFile.read())\n",
        "    \n",
        "with open(exReg,'r') as readFile:\n",
        "    print(\"Inactive Members: \\n\\n\")\n",
        "    print(readFile.read())\n"
      ]
    },
    {
      "cell_type": "markdown",
      "metadata": {},
      "source": [
        "# Pandas Introduction"
      ]
    },
    {
      "cell_type": "code",
      "execution_count": 35,
      "metadata": {},
      "outputs": [],
      "source": [
        "# We'll use xlrd to read xlsx files\n",
        "\n",
        "# Read data from CSV file\n",
        "import pandas as pd\n",
        "import  xlrd\n",
        "\n",
        "csv_path = 'https://cf-courses-data.s3.us.cloud-object-storage.appdomain.cloud/IBMDeveloperSkillsNetwork-PY0101EN-SkillsNetwork/labs/Module%204/data/TopSellingAlbums.csv'\n",
        "df = pd.read_csv(csv_path)"
      ]
    },
    {
      "cell_type": "code",
      "execution_count": 36,
      "metadata": {},
      "outputs": [
        {
          "data": {
            "text/html": [
              "<div>\n",
              "<style scoped>\n",
              "    .dataframe tbody tr th:only-of-type {\n",
              "        vertical-align: middle;\n",
              "    }\n",
              "\n",
              "    .dataframe tbody tr th {\n",
              "        vertical-align: top;\n",
              "    }\n",
              "\n",
              "    .dataframe thead th {\n",
              "        text-align: right;\n",
              "    }\n",
              "</style>\n",
              "<table border=\"1\" class=\"dataframe\">\n",
              "  <thead>\n",
              "    <tr style=\"text-align: right;\">\n",
              "      <th></th>\n",
              "      <th>Artist</th>\n",
              "      <th>Album</th>\n",
              "      <th>Released</th>\n",
              "      <th>Length</th>\n",
              "      <th>Genre</th>\n",
              "      <th>Music Recording Sales (millions)</th>\n",
              "      <th>Claimed Sales (millions)</th>\n",
              "      <th>Released.1</th>\n",
              "      <th>Soundtrack</th>\n",
              "      <th>Rating</th>\n",
              "    </tr>\n",
              "  </thead>\n",
              "  <tbody>\n",
              "    <tr>\n",
              "      <th>0</th>\n",
              "      <td>Michael Jackson</td>\n",
              "      <td>Thriller</td>\n",
              "      <td>1982</td>\n",
              "      <td>0:42:19</td>\n",
              "      <td>pop, rock, R&amp;B</td>\n",
              "      <td>46.0</td>\n",
              "      <td>65</td>\n",
              "      <td>30-Nov-82</td>\n",
              "      <td>NaN</td>\n",
              "      <td>10.0</td>\n",
              "    </tr>\n",
              "    <tr>\n",
              "      <th>1</th>\n",
              "      <td>AC/DC</td>\n",
              "      <td>Back in Black</td>\n",
              "      <td>1980</td>\n",
              "      <td>0:42:11</td>\n",
              "      <td>hard rock</td>\n",
              "      <td>26.1</td>\n",
              "      <td>50</td>\n",
              "      <td>25-Jul-80</td>\n",
              "      <td>NaN</td>\n",
              "      <td>9.5</td>\n",
              "    </tr>\n",
              "    <tr>\n",
              "      <th>2</th>\n",
              "      <td>Pink Floyd</td>\n",
              "      <td>The Dark Side of the Moon</td>\n",
              "      <td>1973</td>\n",
              "      <td>0:42:49</td>\n",
              "      <td>progressive rock</td>\n",
              "      <td>24.2</td>\n",
              "      <td>45</td>\n",
              "      <td>01-Mar-73</td>\n",
              "      <td>NaN</td>\n",
              "      <td>9.0</td>\n",
              "    </tr>\n",
              "    <tr>\n",
              "      <th>3</th>\n",
              "      <td>Whitney Houston</td>\n",
              "      <td>The Bodyguard</td>\n",
              "      <td>1992</td>\n",
              "      <td>0:57:44</td>\n",
              "      <td>R&amp;B, soul, pop</td>\n",
              "      <td>27.4</td>\n",
              "      <td>44</td>\n",
              "      <td>17-Nov-92</td>\n",
              "      <td>Y</td>\n",
              "      <td>8.5</td>\n",
              "    </tr>\n",
              "    <tr>\n",
              "      <th>4</th>\n",
              "      <td>Meat Loaf</td>\n",
              "      <td>Bat Out of Hell</td>\n",
              "      <td>1977</td>\n",
              "      <td>0:46:33</td>\n",
              "      <td>hard rock, progressive rock</td>\n",
              "      <td>20.6</td>\n",
              "      <td>43</td>\n",
              "      <td>21-Oct-77</td>\n",
              "      <td>NaN</td>\n",
              "      <td>8.0</td>\n",
              "    </tr>\n",
              "    <tr>\n",
              "      <th>5</th>\n",
              "      <td>Eagles</td>\n",
              "      <td>Their Greatest Hits (1971-1975)</td>\n",
              "      <td>1976</td>\n",
              "      <td>0:43:08</td>\n",
              "      <td>rock, soft rock, folk rock</td>\n",
              "      <td>32.2</td>\n",
              "      <td>42</td>\n",
              "      <td>17-Feb-76</td>\n",
              "      <td>NaN</td>\n",
              "      <td>7.5</td>\n",
              "    </tr>\n",
              "    <tr>\n",
              "      <th>6</th>\n",
              "      <td>Bee Gees</td>\n",
              "      <td>Saturday Night Fever</td>\n",
              "      <td>1977</td>\n",
              "      <td>1:15:54</td>\n",
              "      <td>disco</td>\n",
              "      <td>20.6</td>\n",
              "      <td>40</td>\n",
              "      <td>15-Nov-77</td>\n",
              "      <td>Y</td>\n",
              "      <td>7.0</td>\n",
              "    </tr>\n",
              "    <tr>\n",
              "      <th>7</th>\n",
              "      <td>Fleetwood Mac</td>\n",
              "      <td>Rumours</td>\n",
              "      <td>1977</td>\n",
              "      <td>0:40:01</td>\n",
              "      <td>soft rock</td>\n",
              "      <td>27.9</td>\n",
              "      <td>40</td>\n",
              "      <td>04-Feb-77</td>\n",
              "      <td>NaN</td>\n",
              "      <td>6.5</td>\n",
              "    </tr>\n",
              "  </tbody>\n",
              "</table>\n",
              "</div>"
            ],
            "text/plain": [
              "            Artist                            Album  Released   Length  \\\n",
              "0  Michael Jackson                         Thriller      1982  0:42:19   \n",
              "1            AC/DC                    Back in Black      1980  0:42:11   \n",
              "2       Pink Floyd        The Dark Side of the Moon      1973  0:42:49   \n",
              "3  Whitney Houston                    The Bodyguard      1992  0:57:44   \n",
              "4        Meat Loaf                  Bat Out of Hell      1977  0:46:33   \n",
              "5           Eagles  Their Greatest Hits (1971-1975)      1976  0:43:08   \n",
              "6         Bee Gees             Saturday Night Fever      1977  1:15:54   \n",
              "7    Fleetwood Mac                          Rumours      1977  0:40:01   \n",
              "\n",
              "                         Genre  Music Recording Sales (millions)  \\\n",
              "0               pop, rock, R&B                              46.0   \n",
              "1                    hard rock                              26.1   \n",
              "2             progressive rock                              24.2   \n",
              "3               R&B, soul, pop                              27.4   \n",
              "4  hard rock, progressive rock                              20.6   \n",
              "5   rock, soft rock, folk rock                              32.2   \n",
              "6                        disco                              20.6   \n",
              "7                    soft rock                              27.9   \n",
              "\n",
              "   Claimed Sales (millions) Released.1 Soundtrack  Rating  \n",
              "0                        65  30-Nov-82        NaN    10.0  \n",
              "1                        50  25-Jul-80        NaN     9.5  \n",
              "2                        45  01-Mar-73        NaN     9.0  \n",
              "3                        44  17-Nov-92          Y     8.5  \n",
              "4                        43  21-Oct-77        NaN     8.0  \n",
              "5                        42  17-Feb-76        NaN     7.5  \n",
              "6                        40  15-Nov-77          Y     7.0  \n",
              "7                        40  04-Feb-77        NaN     6.5  "
            ]
          },
          "execution_count": 36,
          "metadata": {},
          "output_type": "execute_result"
        }
      ],
      "source": [
        "# print the first rowsa\n",
        "\n",
        "df.head(10)"
      ]
    },
    {
      "cell_type": "code",
      "execution_count": 37,
      "metadata": {},
      "outputs": [
        {
          "ename": "FileNotFoundError",
          "evalue": "[Errno 2] No such file or directory: 'TopSellingAlbums.xlsx'",
          "output_type": "error",
          "traceback": [
            "\u001b[1;31m---------------------------------------------------------------------------\u001b[0m",
            "\u001b[1;31mFileNotFoundError\u001b[0m                         Traceback (most recent call last)",
            "\u001b[1;32mc:\\Users\\aleja\\github-classroom\\PosgradoMNA\\actividades-de-aprendizaje-A01793146\\assignment_mod04.ipynb Celda 34\u001b[0m in \u001b[0;36m<cell line: 6>\u001b[1;34m()\u001b[0m\n\u001b[0;32m      <a href='vscode-notebook-cell:/c%3A/Users/aleja/github-classroom/PosgradoMNA/actividades-de-aprendizaje-A01793146/assignment_mod04.ipynb#X50sZmlsZQ%3D%3D?line=0'>1</a>\u001b[0m \u001b[39m# Read data from Excel File and print the first five rows\u001b[39;00m\n\u001b[0;32m      <a href='vscode-notebook-cell:/c%3A/Users/aleja/github-classroom/PosgradoMNA/actividades-de-aprendizaje-A01793146/assignment_mod04.ipynb#X50sZmlsZQ%3D%3D?line=3'>4</a>\u001b[0m xlsx_path \u001b[39m=\u001b[39m \u001b[39m'\u001b[39m\u001b[39mhttps://s3-api.us-geo.objectstorage.softlayer.net/cf-courses-data/CognitiveClass/PY0101EN/Chapter\u001b[39m\u001b[39m%\u001b[39m\u001b[39m204/Datasets/TopSellingAlbums.xlsx\u001b[39m\u001b[39m'\u001b[39m\n\u001b[1;32m----> <a href='vscode-notebook-cell:/c%3A/Users/aleja/github-classroom/PosgradoMNA/actividades-de-aprendizaje-A01793146/assignment_mod04.ipynb#X50sZmlsZQ%3D%3D?line=5'>6</a>\u001b[0m dfxls \u001b[39m=\u001b[39m pd\u001b[39m.\u001b[39;49mread_excel(\u001b[39m\"\u001b[39;49m\u001b[39mTopSellingAlbums.xlsx\u001b[39;49m\u001b[39m\"\u001b[39;49m)\n\u001b[0;32m      <a href='vscode-notebook-cell:/c%3A/Users/aleja/github-classroom/PosgradoMNA/actividades-de-aprendizaje-A01793146/assignment_mod04.ipynb#X50sZmlsZQ%3D%3D?line=6'>7</a>\u001b[0m dfxls\u001b[39m.\u001b[39mhead()\n",
            "File \u001b[1;32m~\\AppData\\Local\\Packages\\PythonSoftwareFoundation.Python.3.10_qbz5n2kfra8p0\\LocalCache\\local-packages\\Python310\\site-packages\\pandas\\util\\_decorators.py:311\u001b[0m, in \u001b[0;36mdeprecate_nonkeyword_arguments.<locals>.decorate.<locals>.wrapper\u001b[1;34m(*args, **kwargs)\u001b[0m\n\u001b[0;32m    305\u001b[0m \u001b[39mif\u001b[39;00m \u001b[39mlen\u001b[39m(args) \u001b[39m>\u001b[39m num_allow_args:\n\u001b[0;32m    306\u001b[0m     warnings\u001b[39m.\u001b[39mwarn(\n\u001b[0;32m    307\u001b[0m         msg\u001b[39m.\u001b[39mformat(arguments\u001b[39m=\u001b[39marguments),\n\u001b[0;32m    308\u001b[0m         \u001b[39mFutureWarning\u001b[39;00m,\n\u001b[0;32m    309\u001b[0m         stacklevel\u001b[39m=\u001b[39mstacklevel,\n\u001b[0;32m    310\u001b[0m     )\n\u001b[1;32m--> 311\u001b[0m \u001b[39mreturn\u001b[39;00m func(\u001b[39m*\u001b[39margs, \u001b[39m*\u001b[39m\u001b[39m*\u001b[39mkwargs)\n",
            "File \u001b[1;32m~\\AppData\\Local\\Packages\\PythonSoftwareFoundation.Python.3.10_qbz5n2kfra8p0\\LocalCache\\local-packages\\Python310\\site-packages\\pandas\\io\\excel\\_base.py:457\u001b[0m, in \u001b[0;36mread_excel\u001b[1;34m(io, sheet_name, header, names, index_col, usecols, squeeze, dtype, engine, converters, true_values, false_values, skiprows, nrows, na_values, keep_default_na, na_filter, verbose, parse_dates, date_parser, thousands, decimal, comment, skipfooter, convert_float, mangle_dupe_cols, storage_options)\u001b[0m\n\u001b[0;32m    455\u001b[0m \u001b[39mif\u001b[39;00m \u001b[39mnot\u001b[39;00m \u001b[39misinstance\u001b[39m(io, ExcelFile):\n\u001b[0;32m    456\u001b[0m     should_close \u001b[39m=\u001b[39m \u001b[39mTrue\u001b[39;00m\n\u001b[1;32m--> 457\u001b[0m     io \u001b[39m=\u001b[39m ExcelFile(io, storage_options\u001b[39m=\u001b[39;49mstorage_options, engine\u001b[39m=\u001b[39;49mengine)\n\u001b[0;32m    458\u001b[0m \u001b[39melif\u001b[39;00m engine \u001b[39mand\u001b[39;00m engine \u001b[39m!=\u001b[39m io\u001b[39m.\u001b[39mengine:\n\u001b[0;32m    459\u001b[0m     \u001b[39mraise\u001b[39;00m \u001b[39mValueError\u001b[39;00m(\n\u001b[0;32m    460\u001b[0m         \u001b[39m\"\u001b[39m\u001b[39mEngine should not be specified when passing \u001b[39m\u001b[39m\"\u001b[39m\n\u001b[0;32m    461\u001b[0m         \u001b[39m\"\u001b[39m\u001b[39man ExcelFile - ExcelFile already has the engine set\u001b[39m\u001b[39m\"\u001b[39m\n\u001b[0;32m    462\u001b[0m     )\n",
            "File \u001b[1;32m~\\AppData\\Local\\Packages\\PythonSoftwareFoundation.Python.3.10_qbz5n2kfra8p0\\LocalCache\\local-packages\\Python310\\site-packages\\pandas\\io\\excel\\_base.py:1376\u001b[0m, in \u001b[0;36mExcelFile.__init__\u001b[1;34m(self, path_or_buffer, engine, storage_options)\u001b[0m\n\u001b[0;32m   1374\u001b[0m     ext \u001b[39m=\u001b[39m \u001b[39m\"\u001b[39m\u001b[39mxls\u001b[39m\u001b[39m\"\u001b[39m\n\u001b[0;32m   1375\u001b[0m \u001b[39melse\u001b[39;00m:\n\u001b[1;32m-> 1376\u001b[0m     ext \u001b[39m=\u001b[39m inspect_excel_format(\n\u001b[0;32m   1377\u001b[0m         content_or_path\u001b[39m=\u001b[39;49mpath_or_buffer, storage_options\u001b[39m=\u001b[39;49mstorage_options\n\u001b[0;32m   1378\u001b[0m     )\n\u001b[0;32m   1379\u001b[0m     \u001b[39mif\u001b[39;00m ext \u001b[39mis\u001b[39;00m \u001b[39mNone\u001b[39;00m:\n\u001b[0;32m   1380\u001b[0m         \u001b[39mraise\u001b[39;00m \u001b[39mValueError\u001b[39;00m(\n\u001b[0;32m   1381\u001b[0m             \u001b[39m\"\u001b[39m\u001b[39mExcel file format cannot be determined, you must specify \u001b[39m\u001b[39m\"\u001b[39m\n\u001b[0;32m   1382\u001b[0m             \u001b[39m\"\u001b[39m\u001b[39man engine manually.\u001b[39m\u001b[39m\"\u001b[39m\n\u001b[0;32m   1383\u001b[0m         )\n",
            "File \u001b[1;32m~\\AppData\\Local\\Packages\\PythonSoftwareFoundation.Python.3.10_qbz5n2kfra8p0\\LocalCache\\local-packages\\Python310\\site-packages\\pandas\\io\\excel\\_base.py:1250\u001b[0m, in \u001b[0;36minspect_excel_format\u001b[1;34m(content_or_path, storage_options)\u001b[0m\n\u001b[0;32m   1247\u001b[0m \u001b[39mif\u001b[39;00m \u001b[39misinstance\u001b[39m(content_or_path, \u001b[39mbytes\u001b[39m):\n\u001b[0;32m   1248\u001b[0m     content_or_path \u001b[39m=\u001b[39m BytesIO(content_or_path)\n\u001b[1;32m-> 1250\u001b[0m \u001b[39mwith\u001b[39;00m get_handle(\n\u001b[0;32m   1251\u001b[0m     content_or_path, \u001b[39m\"\u001b[39;49m\u001b[39mrb\u001b[39;49m\u001b[39m\"\u001b[39;49m, storage_options\u001b[39m=\u001b[39;49mstorage_options, is_text\u001b[39m=\u001b[39;49m\u001b[39mFalse\u001b[39;49;00m\n\u001b[0;32m   1252\u001b[0m ) \u001b[39mas\u001b[39;00m handle:\n\u001b[0;32m   1253\u001b[0m     stream \u001b[39m=\u001b[39m handle\u001b[39m.\u001b[39mhandle\n\u001b[0;32m   1254\u001b[0m     stream\u001b[39m.\u001b[39mseek(\u001b[39m0\u001b[39m)\n",
            "File \u001b[1;32m~\\AppData\\Local\\Packages\\PythonSoftwareFoundation.Python.3.10_qbz5n2kfra8p0\\LocalCache\\local-packages\\Python310\\site-packages\\pandas\\io\\common.py:795\u001b[0m, in \u001b[0;36mget_handle\u001b[1;34m(path_or_buf, mode, encoding, compression, memory_map, is_text, errors, storage_options)\u001b[0m\n\u001b[0;32m    786\u001b[0m         handle \u001b[39m=\u001b[39m \u001b[39mopen\u001b[39m(\n\u001b[0;32m    787\u001b[0m             handle,\n\u001b[0;32m    788\u001b[0m             ioargs\u001b[39m.\u001b[39mmode,\n\u001b[1;32m   (...)\u001b[0m\n\u001b[0;32m    791\u001b[0m             newline\u001b[39m=\u001b[39m\u001b[39m\"\u001b[39m\u001b[39m\"\u001b[39m,\n\u001b[0;32m    792\u001b[0m         )\n\u001b[0;32m    793\u001b[0m     \u001b[39melse\u001b[39;00m:\n\u001b[0;32m    794\u001b[0m         \u001b[39m# Binary mode\u001b[39;00m\n\u001b[1;32m--> 795\u001b[0m         handle \u001b[39m=\u001b[39m \u001b[39mopen\u001b[39;49m(handle, ioargs\u001b[39m.\u001b[39;49mmode)\n\u001b[0;32m    796\u001b[0m     handles\u001b[39m.\u001b[39mappend(handle)\n\u001b[0;32m    798\u001b[0m \u001b[39m# Convert BytesIO or file objects passed with an encoding\u001b[39;00m\n",
            "\u001b[1;31mFileNotFoundError\u001b[0m: [Errno 2] No such file or directory: 'TopSellingAlbums.xlsx'"
          ]
        }
      ],
      "source": [
        "# Read data from Excel File and print the first five rows\n",
        "\n",
        "\n",
        "xlsx_path = 'https://s3-api.us-geo.objectstorage.softlayer.net/cf-courses-data/CognitiveClass/PY0101EN/Chapter%204/Datasets/TopSellingAlbums.xlsx'\n",
        "\n",
        "dfxls = pd.read_excel(\"TopSellingAlbums.xlsx\")\n",
        "dfxls.head()"
      ]
    }
  ],
  "metadata": {
    "colab": {
      "include_colab_link": true,
      "name": "assignment01.ipynb",
      "provenance": []
    },
    "kernelspec": {
      "display_name": "Python 3.10.6 64-bit (microsoft store)",
      "language": "python",
      "name": "python3"
    },
    "language_info": {
      "codemirror_mode": {
        "name": "ipython",
        "version": 3
      },
      "file_extension": ".py",
      "mimetype": "text/x-python",
      "name": "python",
      "nbconvert_exporter": "python",
      "pygments_lexer": "ipython3",
      "version": "3.10.6"
    },
    "vscode": {
      "interpreter": {
        "hash": "32a3e530000ba53acf1932123aae5e6f99e69a5f3504c7f27c942507bf3b5c74"
      }
    }
  },
  "nbformat": 4,
  "nbformat_minor": 0
}

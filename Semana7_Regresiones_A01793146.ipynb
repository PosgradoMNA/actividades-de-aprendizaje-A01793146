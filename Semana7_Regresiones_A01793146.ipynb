{
  "nbformat": 4,
  "nbformat_minor": 0,
  "metadata": {
    "kernelspec": {
      "display_name": "Python 3",
      "language": "python",
      "name": "python3"
    },
    "language_info": {
      "codemirror_mode": {
        "name": "ipython",
        "version": 3
      },
      "file_extension": ".py",
      "mimetype": "text/x-python",
      "name": "python",
      "nbconvert_exporter": "python",
      "pygments_lexer": "ipython3",
      "version": "3.7.7"
    },
    "colab": {
      "provenance": [],
      "include_colab_link": true
    },
    "accelerator": "GPU"
  },
  "cells": [
    {
      "cell_type": "markdown",
      "metadata": {
        "id": "view-in-github",
        "colab_type": "text"
      },
      "source": [
        "<a href=\"https://colab.research.google.com/github/PosgradoMNA/actividades-de-aprendizaje-A01793146/blob/main/Semana7_Regresiones_A01793146.ipynb\" target=\"_parent\"><img src=\"https://colab.research.google.com/assets/colab-badge.svg\" alt=\"Open In Colab\"/></a>"
      ]
    },
    {
      "cell_type": "markdown",
      "metadata": {
        "id": "WUO-kdryVQwK"
      },
      "source": [
        "# Linear Models\n"
      ]
    },
    {
      "cell_type": "code",
      "source": [],
      "metadata": {
        "id": "Msm89naSzi21"
      },
      "execution_count": null,
      "outputs": []
    },
    {
      "cell_type": "markdown",
      "source": [
        "## Alejandro Jesús Vázquez Navarro\n",
        "## A01793146\n",
        "## Ciencia de Datos\n",
        "## Profesora: María de la Paz Rico Fernández\n",
        "## 25 de octubre de 2022"
      ],
      "metadata": {
        "id": "u1JACR7O-NJI"
      }
    },
    {
      "cell_type": "markdown",
      "metadata": {
        "id": "nTKFj4x9LMXm"
      },
      "source": [
        "# Ejercicio 1\n",
        "\n",
        "Utiliza la base de datos de \n",
        "https://www.kaggle.com/vinicius150987/manufacturing-cost\n",
        "\n",
        "Suponga que trabaja como consultor de una empresa de nueva creación que busca desarrollar un modelo para estimar el costo de los bienes vendidos a medida que varían el volumen de producción (número de unidades producidas). La startup recopiló datos y le pidió que desarrollara un modelo para predecir su costo frente a la cantidad de unidades vendidas."
      ]
    },
    {
      "cell_type": "code",
      "metadata": {
        "id": "oTnErQOkL3oa"
      },
      "source": [
        "import pandas as pd\n",
        "import sklearn.metrics as metrics\n",
        "from sklearn.metrics import r2_score\n",
        "import numpy as np\n",
        "%matplotlib inline\n",
        "import matplotlib\n",
        "import matplotlib.pyplot as plt\n",
        "import pandas as pd\n",
        "import seaborn as sns\n",
        "from sklearn.linear_model import LinearRegression\n",
        "\n",
        "# to make this notebook's output stable across runs\n",
        "np.random.seed(42)\n",
        "\n",
        "\n",
        "\n",
        "df = pd.read_csv('https://raw.githubusercontent.com/marypazrf/bdd/main/EconomiesOfScale.csv')\n",
        "# Creación de listas vacías para acumular los errores por modelo\n",
        "\n",
        "modelo_errores = list()\n"
      ],
      "execution_count": null,
      "outputs": []
    },
    {
      "cell_type": "code",
      "metadata": {
        "id": "14kGO5nkMGlV"
      },
      "source": [
        "X = df[['Number of Units']]\n",
        "y = df['Manufacturing Cost']"
      ],
      "execution_count": null,
      "outputs": []
    },
    {
      "cell_type": "code",
      "metadata": {
        "colab": {
          "base_uri": "https://localhost:8080/",
          "height": 282
        },
        "id": "idoEjfEhMoxk",
        "outputId": "367e29a5-1389-454c-ad10-98d1c2e1a10f"
      },
      "source": [
        "plt.plot(X,y,'b.')"
      ],
      "execution_count": null,
      "outputs": [
        {
          "output_type": "execute_result",
          "data": {
            "text/plain": [
              "[<matplotlib.lines.Line2D at 0x7f77b39a7fd0>]"
            ]
          },
          "metadata": {},
          "execution_count": 3
        },
        {
          "output_type": "display_data",
          "data": {
            "text/plain": [
              "<Figure size 432x288 with 1 Axes>"
            ],
            "image/png": "[encoded data removed]"
          },
          "metadata": {
            "needs_background": "light"
          }
        }
      ]
    },
    {
      "cell_type": "markdown",
      "source": [
        "1. Divide los datos del costo de manufactura. Utiliza la función train_test_split (viene el ejemplo al final del notebook).\n",
        "\n"
      ],
      "metadata": {
        "id": "jYBJc6gG6WaJ"
      }
    },
    {
      "cell_type": "code",
      "source": [
        "\n",
        "from sklearn.model_selection import train_test_split\n",
        "X_train, X_test, y_train, y_test = train_test_split(X, y, test_size = 0.1, random_state = 101)"
      ],
      "metadata": {
        "id": "lfuYdlIf6bzV"
      },
      "execution_count": null,
      "outputs": []
    },
    {
      "cell_type": "markdown",
      "source": [
        "**Regresión Múltiple Lineal.**\n",
        "Realiza la regresión lineal: modelo generado (ecuación), su visualización, sus errores y r cuadrada.\n"
      ],
      "metadata": {
        "id": "slHyETIq7Chb"
      }
    },
    {
      "cell_type": "markdown",
      "source": [
        "**Modelo generado (ecuación)**"
      ],
      "metadata": {
        "id": "Yw8s_WQx7hap"
      }
    },
    {
      "cell_type": "code",
      "source": [
        "#lineal\n",
        "#1) Modelo generado\n",
        "\n",
        "\n",
        "linear_reg = LinearRegression(fit_intercept=True)\n",
        "linear_reg.fit(X_train, y_train)\n",
        "y_new = linear_reg.predict(X_test)\n",
        "linear_reg.coef_, linear_reg.intercept_\n"
      ],
      "metadata": {
        "id": "kMmOy97puOLE",
        "colab": {
          "base_uri": "https://localhost:8080/"
        },
        "outputId": "1e2c1461-58fc-4010-ff84-46d5f15b5780"
      },
      "execution_count": null,
      "outputs": [
        {
          "output_type": "execute_result",
          "data": {
            "text/plain": [
              "(array([-5.98882699]), 66.83650741226988)"
            ]
          },
          "metadata": {},
          "execution_count": 5
        }
      ]
    },
    {
      "cell_type": "markdown",
      "source": [
        "La ecuación del modelo generado es:\n",
        "\n",
        "$\\hat{y} = -5.98X + 66.83$"
      ],
      "metadata": {
        "id": "DEaz8c5Y-cnb"
      }
    },
    {
      "cell_type": "markdown",
      "source": [
        "**Visualización**"
      ],
      "metadata": {
        "id": "yQKG9VnH7j5_"
      }
    },
    {
      "cell_type": "code",
      "source": [
        "# construct best fit line\n",
        "X_fit = np.linspace(0, 2, 100)\n",
        "\n",
        "y_fit = linear_reg.predict(X_fit[:, np.newaxis])\n",
        "\n",
        "plt.scatter(X_train, y_train)\n",
        "plt.plot(X_fit, y_fit, \"r-\", linewidth=2, label=\"Predictions\")\n",
        "plt.xlabel(\"$X$\", fontsize=18)\n",
        "plt.ylabel(\"$y$\", rotation=0, fontsize=18)\n",
        "plt.legend(loc=\"upper left\", fontsize=14);"
      ],
      "metadata": {
        "colab": {
          "base_uri": "https://localhost:8080/",
          "height": 322
        },
        "id": "keWNJcLU-n5M",
        "outputId": "755da817-1505-4302-c7cc-d180f57fa582"
      },
      "execution_count": null,
      "outputs": [
        {
          "output_type": "stream",
          "name": "stderr",
          "text": [
            "/usr/local/lib/python3.7/dist-packages/sklearn/base.py:451: UserWarning: X does not have valid feature names, but LinearRegression was fitted with feature names\n",
            "  \"X does not have valid feature names, but\"\n"
          ]
        },
        {
          "output_type": "display_data",
          "data": {
            "text/plain": [
              "<Figure size 432x288 with 1 Axes>"
            ],
            "image/png": "[encoded data removed]"
          },
          "metadata": {
            "needs_background": "light"
          }
        }
      ]
    },
    {
      "cell_type": "markdown",
      "source": [
        " **Errores y r cuadrada**"
      ],
      "metadata": {
        "id": "FBHUAD6H7tJD"
      }
    },
    {
      "cell_type": "code",
      "source": [
        "yhat = linear_reg.predict(X)\n",
        "\n",
        "MAE = metrics.mean_absolute_error(y, yhat)\n",
        "RMSE = np.sqrt(metrics.mean_squared_error(y, yhat))\n",
        "R2 =  r2_score(y, yhat)\n",
        "\n",
        "print('Error medio Absoluto (MAE):', MAE)\n",
        "print('Root Mean Squared Error:', RMSE )\n",
        "print('r2_score', R2)\n",
        "\n",
        "modelo_errores.append({\"Modelo\": \"Regresión lineal\", \n",
        "                      \"MAE\":MAE, \n",
        "                      \"RMSE\":RMSE, \n",
        "                      \"R2\":R2} )\n",
        "\n"
      ],
      "metadata": {
        "colab": {
          "base_uri": "https://localhost:8080/"
        },
        "id": "eLcPxsO2BqVU",
        "outputId": "ae3ee788-dce4-4f7d-ca8d-988247d63024"
      },
      "execution_count": null,
      "outputs": [
        {
          "output_type": "stream",
          "name": "stdout",
          "text": [
            "Error medio Absoluto (MAE): 4.916157669501609\n",
            "Root Mean Squared Error: 6.871732567895417\n",
            "r2_score 0.5789451031995518\n"
          ]
        }
      ]
    },
    {
      "cell_type": "markdown",
      "source": [
        "**Regresión Polinomial**\n",
        "Realiza la regresión polinomial: modelo generado (ecuación), su visualización, sus errores y r cuadrada.\n"
      ],
      "metadata": {
        "id": "_Djewr4Y6vPz"
      }
    },
    {
      "cell_type": "markdown",
      "source": [
        "**Modelo generado (ecuación)**"
      ],
      "metadata": {
        "id": "c_w5IlNaH5qu"
      }
    },
    {
      "cell_type": "code",
      "source": [
        "# Debido a que el dataframe solo tiene 2 columnnas se puede utilizar polynomial features para agregar el cuadrado de cada característica\n",
        "\n",
        "\n",
        "from sklearn.preprocessing import PolynomialFeatures\n",
        "\n",
        "poly = PolynomialFeatures(degree=2, include_bias=False)\n",
        "\n",
        "poly_features  = poly.fit_transform(X)\n",
        "\n",
        "poly_reg_model = LinearRegression()\n",
        "\n",
        "poly_reg_model.fit(poly_features, y)\n",
        "\n",
        "poly_reg_model.coef_, poly_reg_model.intercept_"
      ],
      "metadata": {
        "colab": {
          "base_uri": "https://localhost:8080/"
        },
        "id": "iFLlIXJyIKpO",
        "outputId": "dfef2880-d81b-4cf2-fbe4-a54ad10b5974"
      },
      "execution_count": null,
      "outputs": [
        {
          "output_type": "execute_result",
          "data": {
            "text/plain": [
              "(array([-16.82425278,   1.17336718]), 89.73719677939121)"
            ]
          },
          "metadata": {},
          "execution_count": 8
        }
      ]
    },
    {
      "cell_type": "markdown",
      "source": [
        "Dados los resultados anteriores, la ecuación del modelo polinomial es:\n",
        "\n",
        "$\\hat{y} =  -16.82X +1.17X^2 + 89.73$"
      ],
      "metadata": {
        "id": "K6RMOnw8QO-n"
      }
    },
    {
      "cell_type": "markdown",
      "source": [
        "**Visualización**\n",
        "\n"
      ],
      "metadata": {
        "id": "nif8J5zSH6E0"
      }
    },
    {
      "cell_type": "code",
      "source": [
        "\n",
        "y_predicted = poly_reg_model.predict(poly_features)\n",
        "\n",
        "plt.figure(figsize=(10, 6))\n",
        "plt.title(\"Visualización de modelo Polinomial\", size=16)\n",
        "plt.scatter(X, y)\n",
        "plt.plot(X, y_predicted, c=\"red\")\n",
        "plt.show()"
      ],
      "metadata": {
        "colab": {
          "base_uri": "https://localhost:8080/",
          "height": 392
        },
        "id": "gW_KdGB5ILTX",
        "outputId": "7b4b1cce-57aa-4443-8ace-fec639b2b4ef"
      },
      "execution_count": null,
      "outputs": [
        {
          "output_type": "display_data",
          "data": {
            "text/plain": [
              "<Figure size 720x432 with 1 Axes>"
            ],
            "image/png": "[encoded data removed]"
          },
          "metadata": {
            "needs_background": "light"
          }
        }
      ]
    },
    {
      "cell_type": "markdown",
      "source": [
        "**Errores y r cuadrada**\n",
        "\n"
      ],
      "metadata": {
        "id": "mHvY2ucjH6aL"
      }
    },
    {
      "cell_type": "code",
      "source": [
        "yhat = poly_reg_model.predict(poly_features)\n",
        "\n",
        "MAE = metrics.mean_absolute_error(y, yhat)\n",
        "RMSE = np.sqrt(metrics.mean_squared_error(y, yhat))\n",
        "R2 =  r2_score(y, yhat)\n",
        "\n",
        "print('Error medio Absoluto (MAE):', MAE)\n",
        "print('Root Mean Squared Error:', RMSE )\n",
        "print('r2_score', R2)\n",
        "\n",
        "modelo_errores.append({\"Modelo\": \"Regresión Polinomial\", \n",
        "                      \"MAE\":MAE, \n",
        "                      \"RMSE\":RMSE, \n",
        "                      \"R2\":R2} )\n"
      ],
      "metadata": {
        "colab": {
          "base_uri": "https://localhost:8080/"
        },
        "id": "8C1KPAhkIL4A",
        "outputId": "4e75a7c4-fdd5-40ef-ba08-f35ea6b6b0dc"
      },
      "execution_count": null,
      "outputs": [
        {
          "output_type": "stream",
          "name": "stdout",
          "text": [
            "Error medio Absoluto (MAE): 4.538765565228896\n",
            "Root Mean Squared Error: 6.129173450227568\n",
            "r2_score 0.6650268116056028\n"
          ]
        }
      ]
    },
    {
      "cell_type": "markdown",
      "source": [
        "Realiza la regresión con **Ridge** y **Lasso**. Incluye la ecuación de tu modelo, visualización , errores y r cuadrada."
      ],
      "metadata": {
        "id": "Spj_J1WLT6RF"
      }
    },
    {
      "cell_type": "markdown",
      "source": [
        "**RIDGE**\n",
        "**Modelo generado (ecuación)**"
      ],
      "metadata": {
        "id": "CCdWq55lT9_v"
      }
    },
    {
      "cell_type": "code",
      "source": [
        "#RIDGE\n",
        "#1) Modelo generado\n",
        "\n",
        "from sklearn.linear_model import Ridge\n",
        "\n",
        "ridge_reg = Ridge(fit_intercept=True)\n",
        "\n",
        "ridge_reg.fit(X_train, y_train)\n",
        "\n",
        "y_new = ridge_reg.predict(X_test)\n",
        "\n",
        "ridge_reg.coef_, ridge_reg.intercept_"
      ],
      "metadata": {
        "colab": {
          "base_uri": "https://localhost:8080/"
        },
        "id": "I2zU2XMlUsOa",
        "outputId": "c457c475-2606-402d-ded5-ee72e662fa0c"
      },
      "execution_count": null,
      "outputs": [
        {
          "output_type": "execute_result",
          "data": {
            "text/plain": [
              "(array([-5.98505893]), 66.81965008652344)"
            ]
          },
          "metadata": {},
          "execution_count": 11
        }
      ]
    },
    {
      "cell_type": "markdown",
      "source": [
        "Dados los resultados anteriores, la ecuación del modelo RIDGE es:\n",
        "\n",
        "$\\hat{y} =  -5.98X + 66.81$"
      ],
      "metadata": {
        "id": "2HFrycU3VvSF"
      }
    },
    {
      "cell_type": "markdown",
      "source": [
        "**Visualización**"
      ],
      "metadata": {
        "id": "44n1wd0zUE6M"
      }
    },
    {
      "cell_type": "code",
      "source": [
        "# construct best fit line\n",
        "X_fit = np.linspace(0, 2, 100)\n",
        "\n",
        "y_fit = ridge_reg.predict(X_fit[:, np.newaxis])\n",
        "\n",
        "plt.scatter(X_train, y_train)\n",
        "plt.plot(X_fit, y_fit, \"r-\", linewidth=2, label=\"Ridge - Predictions\")\n",
        "plt.xlabel(\"$X$\", fontsize=18)\n",
        "plt.ylabel(\"$y$\", rotation=0, fontsize=18)\n",
        "plt.legend(loc=\"upper left\", fontsize=14);"
      ],
      "metadata": {
        "colab": {
          "base_uri": "https://localhost:8080/",
          "height": 322
        },
        "id": "Rv3P7TdyUsyv",
        "outputId": "67d04578-638a-4937-d8d0-d90e8b99531b"
      },
      "execution_count": null,
      "outputs": [
        {
          "output_type": "stream",
          "name": "stderr",
          "text": [
            "/usr/local/lib/python3.7/dist-packages/sklearn/base.py:451: UserWarning: X does not have valid feature names, but Ridge was fitted with feature names\n",
            "  \"X does not have valid feature names, but\"\n"
          ]
        },
        {
          "output_type": "display_data",
          "data": {
            "text/plain": [
              "<Figure size 432x288 with 1 Axes>"
            ],
            "image/png": "[encoded data removed]"
          },
          "metadata": {
            "needs_background": "light"
          }
        }
      ]
    },
    {
      "cell_type": "markdown",
      "source": [
        "**Errores y r cuadrada**"
      ],
      "metadata": {
        "id": "u8JyyZxQUIAo"
      }
    },
    {
      "cell_type": "code",
      "source": [
        "yhat = ridge_reg.predict(X)\n",
        "\n",
        "MAE = metrics.mean_absolute_error(y, yhat)\n",
        "RMSE = np.sqrt(metrics.mean_squared_error(y, yhat))\n",
        "R2 =  r2_score(y, yhat)\n",
        "\n",
        "print('Error medio Absoluto (MAE):', MAE)\n",
        "print('Root Mean Squared Error:', RMSE )\n",
        "print('r2_score', R2)\n",
        "\n",
        "modelo_errores.append({\"Modelo\": \"Ridge\", \n",
        "                      \"MAE\":MAE, \n",
        "                      \"RMSE\":RMSE, \n",
        "                      \"R2\":R2} )\n"
      ],
      "metadata": {
        "colab": {
          "base_uri": "https://localhost:8080/"
        },
        "id": "F_J6JTmCUtOw",
        "outputId": "7b6ef666-e028-416e-cd6a-224a63fcf72c"
      },
      "execution_count": null,
      "outputs": [
        {
          "output_type": "stream",
          "name": "stdout",
          "text": [
            "Error medio Absoluto (MAE): 4.9157461235413615\n",
            "Root Mean Squared Error: 6.871777978486941\n",
            "r2_score 0.5789395382521632\n"
          ]
        }
      ]
    },
    {
      "cell_type": "markdown",
      "source": [
        "**LASSO**\n",
        "**Modelo generado (ecuación)**"
      ],
      "metadata": {
        "id": "ZUIbzsmbUNaq"
      }
    },
    {
      "cell_type": "code",
      "source": [
        "#LASSO\n",
        "#1) Modelo generado\n",
        "\n",
        "from sklearn.linear_model import Lasso\n",
        "\n",
        "lasso_reg = Lasso(fit_intercept=True)\n",
        "\n",
        "lasso_reg.fit(X_train, y_train)\n",
        "\n",
        "y_new = lasso_reg.predict(X_test)\n",
        "\n",
        "lasso_reg.coef_, lasso_reg.intercept_"
      ],
      "metadata": {
        "colab": {
          "base_uri": "https://localhost:8080/"
        },
        "id": "Exj-L5WrUtsc",
        "outputId": "f4731b21-1330-4245-87d2-b553b0e8e2ab"
      },
      "execution_count": null,
      "outputs": [
        {
          "output_type": "execute_result",
          "data": {
            "text/plain": [
              "(array([-5.42220651]), 64.30159616857074)"
            ]
          },
          "metadata": {},
          "execution_count": 14
        }
      ]
    },
    {
      "cell_type": "markdown",
      "source": [
        "Dados los resultados anteriores, la ecuación del modelo LASSO es:\n",
        "\n",
        "$\\hat{y} =  -5.42X + 64.3$"
      ],
      "metadata": {
        "id": "505okUvWWjzf"
      }
    },
    {
      "cell_type": "markdown",
      "source": [
        "**Visualización**"
      ],
      "metadata": {
        "id": "z30ys5eTUV_H"
      }
    },
    {
      "cell_type": "code",
      "source": [
        "# construct best fit line\n",
        "X_fit = np.linspace(0, 2, 100)\n",
        "\n",
        "y_fit = lasso_reg.predict(X_fit[:, np.newaxis])\n",
        "\n",
        "plt.scatter(X_train, y_train)\n",
        "plt.plot(X_fit, y_fit, \"r-\", linewidth=2, label=\"Lasso - Predictions\")\n",
        "plt.xlabel(\"$X$\", fontsize=18)\n",
        "plt.ylabel(\"$y$\", rotation=0, fontsize=18)\n",
        "plt.legend(loc=\"upper left\", fontsize=14);"
      ],
      "metadata": {
        "colab": {
          "base_uri": "https://localhost:8080/",
          "height": 322
        },
        "id": "BeIaFKj8Uu62",
        "outputId": "37991c2e-d2f7-4eed-99dc-b86b47c7b303"
      },
      "execution_count": null,
      "outputs": [
        {
          "output_type": "stream",
          "name": "stderr",
          "text": [
            "/usr/local/lib/python3.7/dist-packages/sklearn/base.py:451: UserWarning: X does not have valid feature names, but Lasso was fitted with feature names\n",
            "  \"X does not have valid feature names, but\"\n"
          ]
        },
        {
          "output_type": "display_data",
          "data": {
            "text/plain": [
              "<Figure size 432x288 with 1 Axes>"
            ],
            "image/png": "[encoded data removed]"
          },
          "metadata": {
            "needs_background": "light"
          }
        }
      ]
    },
    {
      "cell_type": "markdown",
      "source": [
        "**Errores y r cuadrada**"
      ],
      "metadata": {
        "id": "OQVcSVnhUXuj"
      }
    },
    {
      "cell_type": "code",
      "source": [
        "yhat = lasso_reg.predict(X)\n",
        "\n",
        "MAE = metrics.mean_absolute_error(y, yhat)\n",
        "RMSE = np.sqrt(metrics.mean_squared_error(y, yhat))\n",
        "R2 =  r2_score(y, yhat)\n",
        "\n",
        "print('Error medio Absoluto (MAE):', MAE)\n",
        "print('Root Mean Squared Error:', RMSE )\n",
        "print('r2_score', R2)\n",
        "\n",
        "modelo_errores.append({\"Modelo\": \"Lasso\", \n",
        "                      \"MAE\":MAE, \n",
        "                      \"RMSE\":RMSE, \n",
        "                      \"R2\":R2} )\n"
      ],
      "metadata": {
        "colab": {
          "base_uri": "https://localhost:8080/"
        },
        "id": "MRApgkm0Uvix",
        "outputId": "ee898526-53b4-4f7f-b49d-c685226022f0"
      },
      "execution_count": null,
      "outputs": [
        {
          "output_type": "stream",
          "name": "stdout",
          "text": [
            "Error medio Absoluto (MAE): 4.879889819790469\n",
            "Root Mean Squared Error: 6.919786080678711\n",
            "r2_score 0.5730357022798069\n"
          ]
        }
      ]
    },
    {
      "cell_type": "markdown",
      "source": [
        "Finalmente grafica :\n",
        "- MAE (de los cuatro métodos)\n",
        "- R2 (de los cuatro métodos)"
      ],
      "metadata": {
        "id": "Ri2MA21mUeMA"
      }
    },
    {
      "cell_type": "code",
      "source": [
        "import matplotlib.pyplot as plt\n",
        "import seaborn as sns\n",
        "\n",
        "dfErrores = pd.DataFrame(modelo_errores)\n",
        "\n",
        "sns.set_context('paper')\n",
        "f, ax = plt.subplots(figsize = (6,5))\n",
        "\n",
        "sns.barplot(data=dfErrores, x='Modelo', y='MAE',  palette = 'Blues', edgecolor = 'w').set(title=\"Errores por MAE\")\n",
        "plt.xlabel('Modelo', fontsize=11)\n",
        "plt.tick_params(axis='both', which='major', labelsize=12,   rotation=45)\n",
        "\n",
        "\n",
        "plt.show()\n",
        "\n"
      ],
      "metadata": {
        "colab": {
          "base_uri": "https://localhost:8080/",
          "height": 437
        },
        "id": "Q62DaJduUwJj",
        "outputId": "5c39c7ed-144d-413b-95fa-eecd6d5025bc"
      },
      "execution_count": null,
      "outputs": [
        {
          "output_type": "display_data",
          "data": {
            "text/plain": [
              "<Figure size 432x360 with 1 Axes>"
            ],
            "image/png": "[encoded data removed]"
          },
          "metadata": {
            "needs_background": "light"
          }
        }
      ]
    },
    {
      "cell_type": "code",
      "source": [
        "sns.barplot(data=dfErrores, x='Modelo', y='R2', palette = 'Blues', edgecolor = 'w')\n",
        "plt.xlabel('Modelo', fontsize=11)\n",
        "plt.tick_params(axis='both', which='major', labelsize=12,   rotation=45)\n"
      ],
      "metadata": {
        "id": "wzGsaUwUadTl",
        "outputId": "0ff27771-63e8-4008-8667-20a3f65613d7",
        "colab": {
          "base_uri": "https://localhost:8080/",
          "height": 368
        }
      },
      "execution_count": null,
      "outputs": [
        {
          "output_type": "display_data",
          "data": {
            "text/plain": [
              "<Figure size 432x288 with 1 Axes>"
            ],
            "image/png": "[encoded data removed]"
          },
          "metadata": {
            "needs_background": "light"
          }
        }
      ]
    },
    {
      "cell_type": "markdown",
      "source": [
        "**Explica tus resultados, que método conviene más a la empresa, ¿por que?, ¿que porcentajes de entrenamiento y evaluación?, ¿que error tienes?, ¿es bueno?, ¿cómo lo sabes?**\n"
      ],
      "metadata": {
        "id": "IA2LN7SbUjHk"
      }
    },
    {
      "cell_type": "markdown",
      "source": [
        "En realidad ningún método es conveniente debido a sus métricas de error. Solamente la **regresión polinomial** pudo superar el **0.66** aún así, este valor continua siendo **poco performante y por lo tanto no es bueno** pues solo explica el 66% de la varianza. No es un valor que nos pueda ofrecer poder predictivo pues sabemos que los modelos polinomiales tienden al sobreentrenamiento. Habría que hacer las pruebas pertinentes para poderlo confirmar.\n",
        "\n",
        "Los errores poco performantes tienen sentido pues **no se realizó ninguna labor de afinamiento de hiperparámetros** ni mucho menos una validación cruzada. Son modelos sencillos.\n",
        "\n",
        "Sin embargo, por las tareas anteriores, **sí podríamos tomar la regresión Ridge y Lasso** como modelos para poder hacer la predicción y tomar la regresión lineal como base comparativa. Esto porque la regresión Ridge y Lasso penalizan los coeficientes y con una afinación de parámetros podríamos jugar con el valor del hiperparámetro **alfa** y nuevamente medir los errores para poder llegar a conclusiones más finas.\n",
        "\n",
        "Los porcentajes que se tomaron fueron 90% entrenamiento vs 10% de pruebas. "
      ],
      "metadata": {
        "id": "kV-6lgyrUww8"
      }
    },
    {
      "cell_type": "markdown",
      "metadata": {
        "id": "CfqcmLmxLoe9"
      },
      "source": [
        "#Ejercicio 2\n",
        "Realiza la regresión polinomial de los siguientes datos:"
      ]
    },
    {
      "cell_type": "code",
      "source": [
        "df = pd.read_csv('https://raw.githubusercontent.com/marypazrf/bdd/main/kc_house_data.csv')\n",
        "df.sample(10)\n",
        "\n",
        "modelo_errores_ejercicio2 = list()\n"
      ],
      "metadata": {
        "id": "57bn0j38qGrg"
      },
      "execution_count": null,
      "outputs": []
    },
    {
      "cell_type": "code",
      "source": [
        "df.info()"
      ],
      "metadata": {
        "id": "n0fs14KoqI3M",
        "colab": {
          "base_uri": "https://localhost:8080/"
        },
        "outputId": "0b3e8af0-dff2-458d-f347-1052a6545b22"
      },
      "execution_count": null,
      "outputs": [
        {
          "output_type": "stream",
          "name": "stdout",
          "text": [
            "<class 'pandas.core.frame.DataFrame'>\n",
            "RangeIndex: 21613 entries, 0 to 21612\n",
            "Data columns (total 21 columns):\n",
            " #   Column         Non-Null Count  Dtype  \n",
            "---  ------         --------------  -----  \n",
            " 0   id             21613 non-null  int64  \n",
            " 1   date           21613 non-null  object \n",
            " 2   price          21613 non-null  float64\n",
            " 3   bedrooms       21613 non-null  int64  \n",
            " 4   bathrooms      21613 non-null  float64\n",
            " 5   sqft_living    21613 non-null  int64  \n",
            " 6   sqft_lot       21613 non-null  int64  \n",
            " 7   floors         21613 non-null  float64\n",
            " 8   waterfront     21613 non-null  int64  \n",
            " 9   view           21613 non-null  int64  \n",
            " 10  condition      21613 non-null  int64  \n",
            " 11  grade          21613 non-null  int64  \n",
            " 12  sqft_above     21613 non-null  int64  \n",
            " 13  sqft_basement  21613 non-null  int64  \n",
            " 14  yr_built       21613 non-null  int64  \n",
            " 15  yr_renovated   21613 non-null  int64  \n",
            " 16  zipcode        21613 non-null  int64  \n",
            " 17  lat            21613 non-null  float64\n",
            " 18  long           21613 non-null  float64\n",
            " 19  sqft_living15  21613 non-null  int64  \n",
            " 20  sqft_lot15     21613 non-null  int64  \n",
            "dtypes: float64(5), int64(15), object(1)\n",
            "memory usage: 3.5+ MB\n"
          ]
        }
      ]
    },
    {
      "cell_type": "code",
      "source": [
        "df.describe()"
      ],
      "metadata": {
        "id": "1PNzDJZeqKhe",
        "colab": {
          "base_uri": "https://localhost:8080/",
          "height": 364
        },
        "outputId": "268b2ec5-6606-48fb-c6f3-7f3c5e488c84"
      },
      "execution_count": null,
      "outputs": [
        {
          "output_type": "execute_result",
          "data": {
            "text/plain": [
              "                 id         price      bedrooms     bathrooms   sqft_living  \\\n",
              "count  2.161300e+04  2.161300e+04  21613.000000  21613.000000  21613.000000   \n",
              "mean   4.580302e+09  5.400881e+05      3.370842      2.114757   2079.899736   \n",
              "std    2.876566e+09  3.671272e+05      0.930062      0.770163    918.440897   \n",
              "min    1.000102e+06  7.500000e+04      0.000000      0.000000    290.000000   \n",
              "25%    2.123049e+09  3.219500e+05      3.000000      1.750000   1427.000000   \n",
              "50%    3.904930e+09  4.500000e+05      3.000000      2.250000   1910.000000   \n",
              "75%    7.308900e+09  6.450000e+05      4.000000      2.500000   2550.000000   \n",
              "max    9.900000e+09  7.700000e+06     33.000000      8.000000  13540.000000   \n",
              "\n",
              "           sqft_lot        floors    waterfront          view     condition  \\\n",
              "count  2.161300e+04  21613.000000  21613.000000  21613.000000  21613.000000   \n",
              "mean   1.510697e+04      1.494309      0.007542      0.234303      3.409430   \n",
              "std    4.142051e+04      0.539989      0.086517      0.766318      0.650743   \n",
              "min    5.200000e+02      1.000000      0.000000      0.000000      1.000000   \n",
              "25%    5.040000e+03      1.000000      0.000000      0.000000      3.000000   \n",
              "50%    7.618000e+03      1.500000      0.000000      0.000000      3.000000   \n",
              "75%    1.068800e+04      2.000000      0.000000      0.000000      4.000000   \n",
              "max    1.651359e+06      3.500000      1.000000      4.000000      5.000000   \n",
              "\n",
              "              grade    sqft_above  sqft_basement      yr_built  yr_renovated  \\\n",
              "count  21613.000000  21613.000000   21613.000000  21613.000000  21613.000000   \n",
              "mean       7.656873   1788.390691     291.509045   1971.005136     84.402258   \n",
              "std        1.175459    828.090978     442.575043     29.373411    401.679240   \n",
              "min        1.000000    290.000000       0.000000   1900.000000      0.000000   \n",
              "25%        7.000000   1190.000000       0.000000   1951.000000      0.000000   \n",
              "50%        7.000000   1560.000000       0.000000   1975.000000      0.000000   \n",
              "75%        8.000000   2210.000000     560.000000   1997.000000      0.000000   \n",
              "max       13.000000   9410.000000    4820.000000   2015.000000   2015.000000   \n",
              "\n",
              "            zipcode           lat          long  sqft_living15     sqft_lot15  \n",
              "count  21613.000000  21613.000000  21613.000000   21613.000000   21613.000000  \n",
              "mean   98077.939805     47.560053   -122.213896    1986.552492   12768.455652  \n",
              "std       53.505026      0.138564      0.140828     685.391304   27304.179631  \n",
              "min    98001.000000     47.155900   -122.519000     399.000000     651.000000  \n",
              "25%    98033.000000     47.471000   -122.328000    1490.000000    5100.000000  \n",
              "50%    98065.000000     47.571800   -122.230000    1840.000000    7620.000000  \n",
              "75%    98118.000000     47.678000   -122.125000    2360.000000   10083.000000  \n",
              "max    98199.000000     47.777600   -121.315000    6210.000000  871200.000000  "
            ],
            "text/html": [
              "\n",
              "  <div id=\"df-b8cc73ee-0408-4fd8-afd4-37699976c825\">\n",
              "    <div class=\"colab-df-container\">\n",
              "      <div>\n",
              "<style scoped>\n",
              "    .dataframe tbody tr th:only-of-type {\n",
              "        vertical-align: middle;\n",
              "    }\n",
              "\n",
              "    .dataframe tbody tr th {\n",
              "        vertical-align: top;\n",
              "    }\n",
              "\n",
              "    .dataframe thead th {\n",
              "        text-align: right;\n",
              "    }\n",
              "</style>\n",
              "<table border=\"1\" class=\"dataframe\">\n",
              "  <thead>\n",
              "    <tr style=\"text-align: right;\">\n",
              "      <th></th>\n",
              "      <th>id</th>\n",
              "      <th>price</th>\n",
              "      <th>bedrooms</th>\n",
              "      <th>bathrooms</th>\n",
              "      <th>sqft_living</th>\n",
              "      <th>sqft_lot</th>\n",
              "      <th>floors</th>\n",
              "      <th>waterfront</th>\n",
              "      <th>view</th>\n",
              "      <th>condition</th>\n",
              "      <th>grade</th>\n",
              "      <th>sqft_above</th>\n",
              "      <th>sqft_basement</th>\n",
              "      <th>yr_built</th>\n",
              "      <th>yr_renovated</th>\n",
              "      <th>zipcode</th>\n",
              "      <th>lat</th>\n",
              "      <th>long</th>\n",
              "      <th>sqft_living15</th>\n",
              "      <th>sqft_lot15</th>\n",
              "    </tr>\n",
              "  </thead>\n",
              "  <tbody>\n",
              "    <tr>\n",
              "      <th>count</th>\n",
              "      <td>2.161300e+04</td>\n",
              "      <td>2.161300e+04</td>\n",
              "      <td>21613.000000</td>\n",
              "      <td>21613.000000</td>\n",
              "      <td>21613.000000</td>\n",
              "      <td>2.161300e+04</td>\n",
              "      <td>21613.000000</td>\n",
              "      <td>21613.000000</td>\n",
              "      <td>21613.000000</td>\n",
              "      <td>21613.000000</td>\n",
              "      <td>21613.000000</td>\n",
              "      <td>21613.000000</td>\n",
              "      <td>21613.000000</td>\n",
              "      <td>21613.000000</td>\n",
              "      <td>21613.000000</td>\n",
              "      <td>21613.000000</td>\n",
              "      <td>21613.000000</td>\n",
              "      <td>21613.000000</td>\n",
              "      <td>21613.000000</td>\n",
              "      <td>21613.000000</td>\n",
              "    </tr>\n",
              "    <tr>\n",
              "      <th>mean</th>\n",
              "      <td>4.580302e+09</td>\n",
              "      <td>5.400881e+05</td>\n",
              "      <td>3.370842</td>\n",
              "      <td>2.114757</td>\n",
              "      <td>2079.899736</td>\n",
              "      <td>1.510697e+04</td>\n",
              "      <td>1.494309</td>\n",
              "      <td>0.007542</td>\n",
              "      <td>0.234303</td>\n",
              "      <td>3.409430</td>\n",
              "      <td>7.656873</td>\n",
              "      <td>1788.390691</td>\n",
              "      <td>291.509045</td>\n",
              "      <td>1971.005136</td>\n",
              "      <td>84.402258</td>\n",
              "      <td>98077.939805</td>\n",
              "      <td>47.560053</td>\n",
              "      <td>-122.213896</td>\n",
              "      <td>1986.552492</td>\n",
              "      <td>12768.455652</td>\n",
              "    </tr>\n",
              "    <tr>\n",
              "      <th>std</th>\n",
              "      <td>2.876566e+09</td>\n",
              "      <td>3.671272e+05</td>\n",
              "      <td>0.930062</td>\n",
              "      <td>0.770163</td>\n",
              "      <td>918.440897</td>\n",
              "      <td>4.142051e+04</td>\n",
              "      <td>0.539989</td>\n",
              "      <td>0.086517</td>\n",
              "      <td>0.766318</td>\n",
              "      <td>0.650743</td>\n",
              "      <td>1.175459</td>\n",
              "      <td>828.090978</td>\n",
              "      <td>442.575043</td>\n",
              "      <td>29.373411</td>\n",
              "      <td>401.679240</td>\n",
              "      <td>53.505026</td>\n",
              "      <td>0.138564</td>\n",
              "      <td>0.140828</td>\n",
              "      <td>685.391304</td>\n",
              "      <td>27304.179631</td>\n",
              "    </tr>\n",
              "    <tr>\n",
              "      <th>min</th>\n",
              "      <td>1.000102e+06</td>\n",
              "      <td>7.500000e+04</td>\n",
              "      <td>0.000000</td>\n",
              "      <td>0.000000</td>\n",
              "      <td>290.000000</td>\n",
              "      <td>5.200000e+02</td>\n",
              "      <td>1.000000</td>\n",
              "      <td>0.000000</td>\n",
              "      <td>0.000000</td>\n",
              "      <td>1.000000</td>\n",
              "      <td>1.000000</td>\n",
              "      <td>290.000000</td>\n",
              "      <td>0.000000</td>\n",
              "      <td>1900.000000</td>\n",
              "      <td>0.000000</td>\n",
              "      <td>98001.000000</td>\n",
              "      <td>47.155900</td>\n",
              "      <td>-122.519000</td>\n",
              "      <td>399.000000</td>\n",
              "      <td>651.000000</td>\n",
              "    </tr>\n",
              "    <tr>\n",
              "      <th>25%</th>\n",
              "      <td>2.123049e+09</td>\n",
              "      <td>3.219500e+05</td>\n",
              "      <td>3.000000</td>\n",
              "      <td>1.750000</td>\n",
              "      <td>1427.000000</td>\n",
              "      <td>5.040000e+03</td>\n",
              "      <td>1.000000</td>\n",
              "      <td>0.000000</td>\n",
              "      <td>0.000000</td>\n",
              "      <td>3.000000</td>\n",
              "      <td>7.000000</td>\n",
              "      <td>1190.000000</td>\n",
              "      <td>0.000000</td>\n",
              "      <td>1951.000000</td>\n",
              "      <td>0.000000</td>\n",
              "      <td>98033.000000</td>\n",
              "      <td>47.471000</td>\n",
              "      <td>-122.328000</td>\n",
              "      <td>1490.000000</td>\n",
              "      <td>5100.000000</td>\n",
              "    </tr>\n",
              "    <tr>\n",
              "      <th>50%</th>\n",
              "      <td>3.904930e+09</td>\n",
              "      <td>4.500000e+05</td>\n",
              "      <td>3.000000</td>\n",
              "      <td>2.250000</td>\n",
              "      <td>1910.000000</td>\n",
              "      <td>7.618000e+03</td>\n",
              "      <td>1.500000</td>\n",
              "      <td>0.000000</td>\n",
              "      <td>0.000000</td>\n",
              "      <td>3.000000</td>\n",
              "      <td>7.000000</td>\n",
              "      <td>1560.000000</td>\n",
              "      <td>0.000000</td>\n",
              "      <td>1975.000000</td>\n",
              "      <td>0.000000</td>\n",
              "      <td>98065.000000</td>\n",
              "      <td>47.571800</td>\n",
              "      <td>-122.230000</td>\n",
              "      <td>1840.000000</td>\n",
              "      <td>7620.000000</td>\n",
              "    </tr>\n",
              "    <tr>\n",
              "      <th>75%</th>\n",
              "      <td>7.308900e+09</td>\n",
              "      <td>6.450000e+05</td>\n",
              "      <td>4.000000</td>\n",
              "      <td>2.500000</td>\n",
              "      <td>2550.000000</td>\n",
              "      <td>1.068800e+04</td>\n",
              "      <td>2.000000</td>\n",
              "      <td>0.000000</td>\n",
              "      <td>0.000000</td>\n",
              "      <td>4.000000</td>\n",
              "      <td>8.000000</td>\n",
              "      <td>2210.000000</td>\n",
              "      <td>560.000000</td>\n",
              "      <td>1997.000000</td>\n",
              "      <td>0.000000</td>\n",
              "      <td>98118.000000</td>\n",
              "      <td>47.678000</td>\n",
              "      <td>-122.125000</td>\n",
              "      <td>2360.000000</td>\n",
              "      <td>10083.000000</td>\n",
              "    </tr>\n",
              "    <tr>\n",
              "      <th>max</th>\n",
              "      <td>9.900000e+09</td>\n",
              "      <td>7.700000e+06</td>\n",
              "      <td>33.000000</td>\n",
              "      <td>8.000000</td>\n",
              "      <td>13540.000000</td>\n",
              "      <td>1.651359e+06</td>\n",
              "      <td>3.500000</td>\n",
              "      <td>1.000000</td>\n",
              "      <td>4.000000</td>\n",
              "      <td>5.000000</td>\n",
              "      <td>13.000000</td>\n",
              "      <td>9410.000000</td>\n",
              "      <td>4820.000000</td>\n",
              "      <td>2015.000000</td>\n",
              "      <td>2015.000000</td>\n",
              "      <td>98199.000000</td>\n",
              "      <td>47.777600</td>\n",
              "      <td>-121.315000</td>\n",
              "      <td>6210.000000</td>\n",
              "      <td>871200.000000</td>\n",
              "    </tr>\n",
              "  </tbody>\n",
              "</table>\n",
              "</div>\n",
              "      <button class=\"colab-df-convert\" onclick=\"convertToInteractive('df-b8cc73ee-0408-4fd8-afd4-37699976c825')\"\n",
              "              title=\"Convert this dataframe to an interactive table.\"\n",
              "              style=\"display:none;\">\n",
              "        \n",
              "  <svg xmlns=\"http://www.w3.org/2000/svg\" height=\"24px\"viewBox=\"0 0 24 24\"\n",
              "       width=\"24px\">\n",
              "    <path d=\"M0 0h24v24H0V0z\" fill=\"none\"/>\n",
              "    <path d=\"M18.56 5.44l.94 2.06.94-2.06 2.06-.94-2.06-.94-.94-2.06-.94 2.06-2.06.94zm-11 1L8.5 8.5l.94-2.06 2.06-.94-2.06-.94L8.5 2.5l-.94 2.06-2.06.94zm10 10l.94 2.06.94-2.06 2.06-.94-2.06-.94-.94-2.06-.94 2.06-2.06.94z\"/><path d=\"M17.41 7.96l-1.37-1.37c-.4-.4-.92-.59-1.43-.59-.52 0-1.04.2-1.43.59L10.3 9.45l-7.72 7.72c-.78.78-.78 2.05 0 2.83L4 21.41c.39.39.9.59 1.41.59.51 0 1.02-.2 1.41-.59l7.78-7.78 2.81-2.81c.8-.78.8-2.07 0-2.86zM5.41 20L4 18.59l7.72-7.72 1.47 1.35L5.41 20z\"/>\n",
              "  </svg>\n",
              "      </button>\n",
              "      \n",
              "  <style>\n",
              "    .colab-df-container {\n",
              "      display:flex;\n",
              "      flex-wrap:wrap;\n",
              "      gap: 12px;\n",
              "    }\n",
              "\n",
              "    .colab-df-convert {\n",
              "      background-color: #E8F0FE;\n",
              "      border: none;\n",
              "      border-radius: 50%;\n",
              "      cursor: pointer;\n",
              "      display: none;\n",
              "      fill: #1967D2;\n",
              "      height: 32px;\n",
              "      padding: 0 0 0 0;\n",
              "      width: 32px;\n",
              "    }\n",
              "\n",
              "    .colab-df-convert:hover {\n",
              "      background-color: #E2EBFA;\n",
              "      box-shadow: 0px 1px 2px rgba(60, 64, 67, 0.3), 0px 1px 3px 1px rgba(60, 64, 67, 0.15);\n",
              "      fill: #174EA6;\n",
              "    }\n",
              "\n",
              "    [theme=dark] .colab-df-convert {\n",
              "      background-color: #3B4455;\n",
              "      fill: #D2E3FC;\n",
              "    }\n",
              "\n",
              "    [theme=dark] .colab-df-convert:hover {\n",
              "      background-color: #434B5C;\n",
              "      box-shadow: 0px 1px 3px 1px rgba(0, 0, 0, 0.15);\n",
              "      filter: drop-shadow(0px 1px 2px rgba(0, 0, 0, 0.3));\n",
              "      fill: #FFFFFF;\n",
              "    }\n",
              "  </style>\n",
              "\n",
              "      <script>\n",
              "        const buttonEl =\n",
              "          document.querySelector('#df-b8cc73ee-0408-4fd8-afd4-37699976c825 button.colab-df-convert');\n",
              "        buttonEl.style.display =\n",
              "          google.colab.kernel.accessAllowed ? 'block' : 'none';\n",
              "\n",
              "        async function convertToInteractive(key) {\n",
              "          const element = document.querySelector('#df-b8cc73ee-0408-4fd8-afd4-37699976c825');\n",
              "          const dataTable =\n",
              "            await google.colab.kernel.invokeFunction('convertToInteractive',\n",
              "                                                     [key], {});\n",
              "          if (!dataTable) return;\n",
              "\n",
              "          const docLinkHtml = 'Like what you see? Visit the ' +\n",
              "            '<a target=\"_blank\" href=https://colab.research.google.com/notebooks/data_table.ipynb>data table notebook</a>'\n",
              "            + ' to learn more about interactive tables.';\n",
              "          element.innerHTML = '';\n",
              "          dataTable['output_type'] = 'display_data';\n",
              "          await google.colab.output.renderOutput(dataTable, element);\n",
              "          const docLink = document.createElement('div');\n",
              "          docLink.innerHTML = docLinkHtml;\n",
              "          element.appendChild(docLink);\n",
              "        }\n",
              "      </script>\n",
              "    </div>\n",
              "  </div>\n",
              "  "
            ]
          },
          "metadata": {},
          "execution_count": 21
        }
      ]
    },
    {
      "cell_type": "code",
      "source": [
        "df.drop('id', axis = 1, inplace = True)\n",
        "df.drop('date', axis = 1, inplace = True)\n",
        "df.drop('zipcode', axis = 1, inplace = True)\n",
        "df.drop('lat', axis = 1, inplace = True)\n",
        "df.drop('long', axis = 1, inplace = True)\n"
      ],
      "metadata": {
        "id": "0KUD8T08qMmq"
      },
      "execution_count": null,
      "outputs": []
    },
    {
      "cell_type": "code",
      "source": [
        "plt.figure(figsize=(12,8)) \n",
        "sns.heatmap(df.corr(), annot=True, cmap='Dark2_r', linewidths = 2)\n",
        "plt.show()"
      ],
      "metadata": {
        "id": "r-jk_nHmqKpp",
        "colab": {
          "base_uri": "https://localhost:8080/",
          "height": 542
        },
        "outputId": "2a13dd33-fa4d-47d9-86ec-0ff0ff530620"
      },
      "execution_count": null,
      "outputs": [
        {
          "output_type": "display_data",
          "data": {
            "text/plain": [
              "<Figure size 864x576 with 2 Axes>"
            ],
            "image/png": "[encoded data removed]"
          },
          "metadata": {
            "needs_background": "light"
          }
        }
      ]
    },
    {
      "cell_type": "code",
      "source": [
        "columns = df.columns.drop('price')\n",
        "\n",
        "features = columns\n",
        "label = ['price']\n",
        "\n",
        "X = df[features]\n",
        "y = df[label]"
      ],
      "metadata": {
        "id": "p4zqCnFwq7Oc"
      },
      "execution_count": null,
      "outputs": []
    },
    {
      "cell_type": "code",
      "source": [
        "from sklearn.model_selection import train_test_split\n",
        "X_train, X_test, y_train, y_test = train_test_split(X, y, test_size = 0.1, random_state = 101)\n",
        "\n",
        "print(f'Numero total de registros en la bdd: {len(X)}')\n",
        "print(\"*****\"*10)\n",
        "print(f'Numero total de registros en el training set: {len(X_train)}')\n",
        "print(f'Tamaño de X_train: {X_train.shape}')\n",
        "print(\"*****\"*10)\n",
        "print(f'Mumero total de registros en el test dataset: {len(X_test)}')\n",
        "print(f'Tamaño del X_test: {X_test.shape}')"
      ],
      "metadata": {
        "id": "p91PEVPLq93-",
        "colab": {
          "base_uri": "https://localhost:8080/"
        },
        "outputId": "c5aedebf-0ab8-48a5-d770-cc84da7cca96"
      },
      "execution_count": null,
      "outputs": [
        {
          "output_type": "stream",
          "name": "stdout",
          "text": [
            "Numero total de registros en la bdd: 21613\n",
            "**************************************************\n",
            "Numero total de registros en el training set: 19451\n",
            "Tamaño de X_train: (19451, 15)\n",
            "**************************************************\n",
            "Mumero total de registros en el test dataset: 2162\n",
            "Tamaño del X_test: (2162, 15)\n"
          ]
        }
      ]
    },
    {
      "cell_type": "markdown",
      "source": [
        "\n",
        "## Encuentra el mejor regresor para los datos de las casas:\n"
      ],
      "metadata": {
        "id": "814XpE3Q-4IU"
      }
    },
    {
      "cell_type": "markdown",
      "source": [
        "Divide los datos. Utiliza la función train_test_split (ya esta en el notebook).\n"
      ],
      "metadata": {
        "id": "KblMcNDO-7Pf"
      }
    },
    {
      "cell_type": "code",
      "source": [
        "from sklearn.model_selection import train_test_split\n",
        "X_train, X_test, y_train, y_test = train_test_split(X, y, test_size = 0.1, random_state = 101)"
      ],
      "metadata": {
        "id": "9QEam79--8Yh"
      },
      "execution_count": null,
      "outputs": []
    },
    {
      "cell_type": "markdown",
      "source": [
        "**Regresión Múltiple Lineal**\n"
      ],
      "metadata": {
        "id": "C62Pc23H-_t1"
      }
    },
    {
      "cell_type": "code",
      "source": [
        "\n",
        "linear_reg = LinearRegression(fit_intercept=True)\n",
        "linear_reg.fit(X_train, y_train)\n",
        "y_new = linear_reg.predict(X_test)\n",
        "linear_reg.coef_, linear_reg.intercept_\n"
      ],
      "metadata": {
        "colab": {
          "base_uri": "https://localhost:8080/"
        },
        "id": "id3xGiSd_AnQ",
        "outputId": "2ebcd7c4-e952-49f1-9f6e-7c05a69efd65"
      },
      "execution_count": null,
      "outputs": [
        {
          "output_type": "execute_result",
          "data": {
            "text/plain": [
              "(array([[-3.82008048e+04,  4.14661380e+04,  1.07992584e+02,\n",
              "          1.71356997e-02,  3.16916913e+04,  5.52691023e+05,\n",
              "          4.12493228e+04,  2.12221443e+04,  1.19493216e+05,\n",
              "          4.77750272e+01,  6.02175566e+01, -3.55090216e+03,\n",
              "          1.32602215e+01,  2.90059284e+01, -5.48132603e-01]]),\n",
              " array([6151359.26274124]))"
            ]
          },
          "metadata": {},
          "execution_count": 27
        }
      ]
    },
    {
      "cell_type": "markdown",
      "source": [
        "**Modelo generado (ecuación), sus errores y r cuadrada.**\n",
        "\n",
        "\n",
        "La ecuación del modelo generado es:\\\n",
        "\n",
        "$\\hat{y} = -3.82x_{1} + 4.14x_{2} + 1.07x_{3} + 1.71x_{4} + 3.16x_{5} + 5.52x_{6} + 4.12x_{7} + 2.12x_{8} + 1.19x_{9} + 4.77x_{10} + 6.07x_{11} - 3.55x_{12} + 1.3x_{13} + 2.9x_{14} - 5.4x_{15} +  66.83$"
      ],
      "metadata": {
        "id": "mMm37VC4_D0m"
      }
    },
    {
      "cell_type": "markdown",
      "source": [
        "**Errores y R cuadrada**"
      ],
      "metadata": {
        "id": "6_WCWp3MDCgE"
      }
    },
    {
      "cell_type": "code",
      "source": [
        "yhat = linear_reg.predict(X_test)\n",
        "\n",
        "MAE = metrics.mean_absolute_error(y_test, yhat)\n",
        "RMSE = np.sqrt(metrics.mean_squared_error(y_test, yhat))\n",
        "R2 =  r2_score(y_test, yhat)\n",
        "\n",
        "print('Error medio Absoluto (MAE):', MAE)\n",
        "print('Root Mean Squared Error:', RMSE )\n",
        "print('r2_score', R2)\n",
        "\n",
        "modelo_errores_ejercicio2.append({\"Modelo\": \"Regresión lineal múltiple\", \n",
        "                      \"MAE\":MAE, \n",
        "                      \"RMSE\":RMSE, \n",
        "                      \"R2\":R2} )\n"
      ],
      "metadata": {
        "id": "B9zn7WhnDFZT",
        "outputId": "0bac9c4b-af83-4ab7-dd6b-c619235e65ca",
        "colab": {
          "base_uri": "https://localhost:8080/"
        }
      },
      "execution_count": null,
      "outputs": [
        {
          "output_type": "stream",
          "name": "stdout",
          "text": [
            "Error medio Absoluto (MAE): 137480.13882733323\n",
            "Root Mean Squared Error: 232133.3676240722\n",
            "r2_score 0.6579723205007892\n"
          ]
        }
      ]
    },
    {
      "cell_type": "markdown",
      "source": [
        "**Regresión Múltiple Polinomial**"
      ],
      "metadata": {
        "id": "UpOQzypl_MC2"
      }
    },
    {
      "cell_type": "code",
      "source": [
        "import numpy as np\n",
        "np.set_printoptions(suppress=True)\n",
        "\n",
        "from sklearn.preprocessing import PolynomialFeatures\n",
        "\n",
        "poly = PolynomialFeatures(degree=2, include_bias=False)\n",
        "\n",
        "poly_features  = poly.fit_transform(X_train)\n",
        "\n",
        "poly_reg_model = LinearRegression()\n",
        "\n",
        "poly_reg_model.fit(poly_features, y_train)\n",
        "\n",
        "poly_reg_model.coef_, poly_reg_model.intercept_"
      ],
      "metadata": {
        "colab": {
          "base_uri": "https://localhost:8080/"
        },
        "id": "x7SvsPqb_N_q",
        "outputId": "258e4e40-4f2a-402a-d049-e9066f07bf4f"
      },
      "execution_count": null,
      "outputs": [
        {
          "output_type": "execute_result",
          "data": {
            "text/plain": [
              "(array([[  933879.68747363, -1092738.59576122,     -537.39042756,\n",
              "              -27.86341015, -2074899.50284542, -3953714.95073794,\n",
              "          -288652.53132388,   558519.57571476,  1098629.82541308,\n",
              "             -138.81847807,     -301.57750104,   -85970.27832349,\n",
              "            -2953.6677524 ,     3999.63413896,      -34.01003549,\n",
              "              957.58680397,     7499.40820411,      -14.00765618,\n",
              "               -0.01852397,     8580.10318633,   -11495.21534004,\n",
              "             -308.06061025,    -5245.65914042,    -5368.63409442,\n",
              "               -0.99997895,      -14.39560032,     -467.07759663,\n",
              "               -9.13138297,       17.28007829,        0.21561587,\n",
              "            -9632.04387825,       15.27957858,       -0.13564763,\n",
              "           -25910.21266178,    43375.66433362,     3829.89181212,\n",
              "            -1080.68920884,    22296.83875751,       14.53917547,\n",
              "                1.44644985,      503.11442829,      -17.08469023,\n",
              "              -17.28745705,       -0.05607141,       -4.03248131,\n",
              "               -5.41426547,        4.83377617,      160.30066995,\n",
              "              -14.2705827 ,       13.12139995,       20.74361839,\n",
              "                5.0931138 ,        2.80584168,        0.65933421,\n",
              "               -0.18058081,       -0.93851928,        6.96385656,\n",
              "                0.00000031,        0.44087436,       -0.09839355,\n",
              "               -0.09760234,        0.09170608,        0.15192079,\n",
              "                5.41357941,        5.41380097,        0.01376232,\n",
              "               -0.00014862,        0.00017697,        0.00000105,\n",
              "            21608.48789466,  -131316.5087391 ,    14441.91346005,\n",
              "            20306.66877656,    -4280.51513681,       -2.82146539,\n",
              "                7.66372446,     1037.06722696,        2.60037824,\n",
              "              -32.03986544,       -0.52863288, -3953720.69238312,\n",
              "           -16050.56861243,     9189.76101853,  -161632.28459013,\n",
              "              183.09964157,      -22.79897746,     4427.70229077,\n",
              "              -29.92316916,      170.602916  ,       -0.8134748 ,\n",
              "             7984.54934708,     7340.05181567,    17955.44340855,\n",
              "              -12.49645736,       -1.77355098,       72.0809273 ,\n",
              "               -9.96828331,        4.63380289,       -0.05244466,\n",
              "             -541.62276996,    -6038.10451918,        1.15578943,\n",
              "               11.95184066,     -306.98687146,      -20.1987148 ,\n",
              "               46.31988104,       -0.27690448,     7366.26381419,\n",
              "                9.59237369,       11.13059163,     -571.97923034,\n",
              "              -10.13424006,      -22.75579402,       -0.50857303,\n",
              "               -1.05529664,        0.2013622 ,       -0.41981747,\n",
              "                0.2187576 ,        0.93644283,       -6.96366584,\n",
              "                1.16488726,       -0.31854983,        0.22538213,\n",
              "                0.94168435,       -6.96437211,       23.06160739,\n",
              "                0.40704478,       -2.04694712,        0.01889356,\n",
              "                1.11629589,        0.04711773,        0.00025518,\n",
              "                0.03315253,        0.00011103,        0.00000236]]),\n",
              " array([80234541.648391]))"
            ]
          },
          "metadata": {},
          "execution_count": 29
        }
      ]
    },
    {
      "cell_type": "markdown",
      "source": [
        "**Modelo generado (ecuación), sus errores y r cuadrada.**\n",
        "\n",
        "La ecuación del modelo está dada por:\n",
        "\n",
        "y^ = poly_reg_model.coef_ (x subíndice) + poly_reg_model.intercept_ (origen)\n",
        "\n",
        "(Son 135 predictores)\n"
      ],
      "metadata": {
        "id": "yuN_p_pv_Qho"
      }
    },
    {
      "cell_type": "markdown",
      "source": [
        "**Errores y R cuadrada**"
      ],
      "metadata": {
        "id": "VZOnUmGaLy80"
      }
    },
    {
      "cell_type": "code",
      "source": [
        "yhat = poly_reg_model.predict(poly_features)\n",
        "\n",
        "MAE = metrics.mean_absolute_error(y_train, yhat)\n",
        "RMSE = np.sqrt(metrics.mean_squared_error(y_train, yhat))\n",
        "R2 =  r2_score(y_train, yhat)\n",
        "\n",
        "print('Error medio Absoluto (MAE):', MAE)\n",
        "print('Root Mean Squared Error:', RMSE )\n",
        "print('r2_score', R2)\n",
        "\n",
        "modelo_errores_ejercicio2.append({\"Modelo\": \"Regresión Polinomial\", \n",
        "                      \"MAE\":MAE, \n",
        "                      \"RMSE\":RMSE, \n",
        "                      \"R2\":R2} )"
      ],
      "metadata": {
        "id": "FjlDoIJMKWPk",
        "outputId": "02154dda-c226-408d-e907-2eff0c68dfb3",
        "colab": {
          "base_uri": "https://localhost:8080/"
        }
      },
      "execution_count": null,
      "outputs": [
        {
          "output_type": "stream",
          "name": "stdout",
          "text": [
            "Error medio Absoluto (MAE): 123190.89551112881\n",
            "Root Mean Squared Error: 182926.5293858463\n",
            "r2_score 0.7469519315774406\n"
          ]
        }
      ]
    },
    {
      "cell_type": "markdown",
      "source": [
        "**RIDGE**"
      ],
      "metadata": {
        "id": "Zn1jzNse_b9j"
      }
    },
    {
      "cell_type": "code",
      "source": [
        "#RIDGE\n",
        "from sklearn.linear_model import Ridge\n",
        "\n",
        "ridge_reg = Ridge(fit_intercept=True)\n",
        "\n",
        "ridge_reg.fit(X_train, y_train)\n",
        "\n",
        "y_new = ridge_reg.predict(X_test)\n",
        "\n",
        "ridge_reg.coef_, ridge_reg.intercept_"
      ],
      "metadata": {
        "id": "2EAatYmjMNSu",
        "outputId": "bbef6284-ae73-4579-e95b-968e47e24b9e",
        "colab": {
          "base_uri": "https://localhost:8080/"
        }
      },
      "execution_count": null,
      "outputs": [
        {
          "output_type": "execute_result",
          "data": {
            "text/plain": [
              "(array([[-38219.22654176,  41450.9655596 ,    108.01335573,\n",
              "              0.01693182,  31689.1573736 , 548258.3326896 ,\n",
              "          41455.92353378,  21226.43465381, 119470.56803888,\n",
              "             47.80728338,     60.20715606,  -3550.50128972,\n",
              "             13.31718896,     28.98519872,     -0.54799851]]),\n",
              " array([6150751.38368669]))"
            ]
          },
          "metadata": {},
          "execution_count": 31
        }
      ]
    },
    {
      "cell_type": "markdown",
      "source": [
        "**Ecuación de tu modelo, errores y r cuadrada**"
      ],
      "metadata": {
        "id": "RqC6UV43_m0d"
      }
    },
    {
      "cell_type": "markdown",
      "source": [
        "**La ecuación del modelo es:**\n",
        "\n",
        "$\\hat{y} = -38219.22x_{1} + 41450.96x_{2} + 108.01x_{3} + 0.\\\\01x_{4} + 31689.15x_{5} + 548258.33x_{6} + 41455.92x_{7} + 21226.43x_{8} + 119470.56x_{9} + 47.80x_{10} +  60.20x_{11} -3550.50x_{12} + 13.31x_{13} + 28.98x_{14} -0.54x_{15} + 6150751.38$\n"
      ],
      "metadata": {
        "id": "jPfpt8V-MYwe"
      }
    },
    {
      "cell_type": "markdown",
      "source": [
        "**Errores y R Cuadrada**"
      ],
      "metadata": {
        "id": "MAs-2mF_NU_M"
      }
    },
    {
      "cell_type": "code",
      "source": [
        "yhat = ridge_reg.predict(X_test)\n",
        "\n",
        "MAE = metrics.mean_absolute_error(y_test, yhat)\n",
        "RMSE = np.sqrt(metrics.mean_squared_error(y_test, yhat))\n",
        "R2 =  r2_score(y_test, yhat)\n",
        "\n",
        "print('Error medio Absoluto (MAE):', MAE)\n",
        "print('Root Mean Squared Error:', RMSE )\n",
        "print('r2_score', R2)\n",
        "\n",
        "modelo_errores_ejercicio2.append({\"Modelo\": \"Ridge\", \n",
        "                      \"MAE\":MAE, \n",
        "                      \"RMSE\":RMSE, \n",
        "                      \"R2\":R2} )\n"
      ],
      "metadata": {
        "colab": {
          "base_uri": "https://localhost:8080/"
        },
        "id": "HyaLjUMc_gs0",
        "outputId": "ef4950ff-66e2-4c79-ee1d-805a230a6958"
      },
      "execution_count": null,
      "outputs": [
        {
          "output_type": "stream",
          "name": "stdout",
          "text": [
            "Error medio Absoluto (MAE): 137491.0433940327\n",
            "Root Mean Squared Error: 232165.24266477543\n",
            "r2_score 0.6578783840295005\n"
          ]
        }
      ]
    },
    {
      "cell_type": "markdown",
      "source": [
        "**LASSO**"
      ],
      "metadata": {
        "id": "6dJPtmve_rkS"
      }
    },
    {
      "cell_type": "code",
      "source": [
        "#LASSO\n",
        "\n",
        "from sklearn.linear_model import Lasso\n",
        "\n",
        "lasso_reg = Lasso(fit_intercept=True)\n",
        "\n",
        "lasso_reg.fit(X_train, y_train)\n",
        "\n",
        "y_new = lasso_reg.predict(X_test)\n",
        "\n",
        "lasso_reg.coef_, lasso_reg.intercept_"
      ],
      "metadata": {
        "id": "GZT0waCOPTg7",
        "outputId": "2a646558-c7aa-4110-b9e8-6251cff81d7d",
        "colab": {
          "base_uri": "https://localhost:8080/"
        }
      },
      "execution_count": null,
      "outputs": [
        {
          "output_type": "stream",
          "name": "stderr",
          "text": [
            "/usr/local/lib/python3.7/dist-packages/sklearn/linear_model/_coordinate_descent.py:648: ConvergenceWarning: Objective did not converge. You might want to increase the number of iterations, check the scale of the features or consider increasing regularisation. Duality gap: 4.053e+14, tolerance: 2.572e+11\n",
            "  coef_, l1_reg, l2_reg, X, y, max_iter, tol, rng, random, positive\n"
          ]
        },
        {
          "output_type": "execute_result",
          "data": {
            "text/plain": [
              "(array([-38199.53451425,  41461.85678095,    293.48048195,      0.01712818,\n",
              "         31687.14111443, 552541.10779394,  41254.96540383,  21219.39019679,\n",
              "        119491.83728775,   -137.70820001,   -125.2684492 ,  -3550.85005106,\n",
              "            13.26284597,     29.00532978,     -0.54813607]),\n",
              " array([6151280.11390041]))"
            ]
          },
          "metadata": {},
          "execution_count": 33
        }
      ]
    },
    {
      "cell_type": "markdown",
      "source": [
        "**Ecuación de tu modelo, errores y r cuadrada**"
      ],
      "metadata": {
        "id": "H_pxLkA7_v6a"
      }
    },
    {
      "cell_type": "markdown",
      "source": [
        "La ecuación del modelo Ridge es:\n",
        "\n",
        "$\\hat{y} = -38199.5x{1} + 41461.8x_{2} + 293.4x_{3} + 0.01x_{4}+ 31687.1x_{5} + 552541.1x_{6} + 41254.9x_{7} + 21219.3x_{8} + 119491.8x_{9} -137.7x_{10} -125.2x_{11} -3550.8x_{12}+ 13.2x_{12}+  29x{13} -0.5x_{14} + 6151280.1$"
      ],
      "metadata": {
        "id": "dQKoFpW1PZ2V"
      }
    },
    {
      "cell_type": "markdown",
      "source": [
        "**Errores y R cuadrada**"
      ],
      "metadata": {
        "id": "ZkM_zBh3QF1_"
      }
    },
    {
      "cell_type": "code",
      "source": [
        "yhat = lasso_reg.predict(X_test)\n",
        "\n",
        "MAE = metrics.mean_absolute_error(y_test, yhat)\n",
        "RMSE = np.sqrt(metrics.mean_squared_error(y_test, yhat))\n",
        "R2 =  r2_score(y_test, yhat)\n",
        "\n",
        "print('Error medio Absoluto (MAE):', MAE)\n",
        "print('Root Mean Squared Error:', RMSE )\n",
        "print('r2_score', R2)\n",
        "\n",
        "modelo_errores_ejercicio2.append({\"Modelo\": \"Lasso\", \n",
        "                      \"MAE\":MAE, \n",
        "                      \"RMSE\":RMSE, \n",
        "                      \"R2\":R2} )\n"
      ],
      "metadata": {
        "colab": {
          "base_uri": "https://localhost:8080/"
        },
        "id": "-tH4bX35_tbF",
        "outputId": "9e0f47c8-6c73-4d25-b505-403d2229ad0b"
      },
      "execution_count": null,
      "outputs": [
        {
          "output_type": "stream",
          "name": "stdout",
          "text": [
            "Error medio Absoluto (MAE): 137480.57154885167\n",
            "Root Mean Squared Error: 232134.52753802197\n",
            "r2_score 0.6579689024340816\n"
          ]
        }
      ]
    },
    {
      "cell_type": "markdown",
      "source": [
        "**Gráfica de los errores**\n",
        "\n",
        "- MAE (de los cuatro métodos)\n",
        "- R2 (de los cuatro métodos)"
      ],
      "metadata": {
        "id": "ZmjBnbhx_3iM"
      }
    },
    {
      "cell_type": "markdown",
      "source": [
        "**MAE**"
      ],
      "metadata": {
        "id": "e1L9iHw8QXcI"
      }
    },
    {
      "cell_type": "code",
      "source": [
        "dfErroresEjercicio2 = pd.DataFrame(modelo_errores_ejercicio2)\n",
        "\n",
        "sns.set_context('paper')\n",
        "f, ax = plt.subplots(figsize = (6,5))\n",
        "\n",
        "sns.barplot(data=dfErroresEjercicio2, x='Modelo', y='MAE',  palette = 'Blues', edgecolor = 'w').set(title=\"Errores por MAE\")\n",
        "plt.xlabel('Modelo', fontsize=11)\n",
        "plt.tick_params(axis='both', which='major', labelsize=12,   rotation=45)\n",
        "\n",
        "\n",
        "plt.show()"
      ],
      "metadata": {
        "colab": {
          "base_uri": "https://localhost:8080/",
          "height": 454
        },
        "id": "PmGuD4_i_8EL",
        "outputId": "d08a6bd3-31ec-48cc-a747-bcf06cc6c717"
      },
      "execution_count": null,
      "outputs": [
        {
          "output_type": "display_data",
          "data": {
            "text/plain": [
              "<Figure size 432x360 with 1 Axes>"
            ],
            "image/png": "[encoded data removed]"
          },
          "metadata": {
            "needs_background": "light"
          }
        }
      ]
    },
    {
      "cell_type": "code",
      "source": [
        "dfErroresEjercicio2.head()"
      ],
      "metadata": {
        "id": "r-YQLK3VRfDw",
        "outputId": "61809786-a3b4-4df3-c9d9-cdeb5f4adc37",
        "colab": {
          "base_uri": "https://localhost:8080/",
          "height": 175
        }
      },
      "execution_count": null,
      "outputs": [
        {
          "output_type": "execute_result",
          "data": {
            "text/plain": [
              "                      Modelo            MAE           RMSE        R2\n",
              "0  Regresión lineal múltiple  137480.138827  232133.367624  0.657972\n",
              "1       Regresión Polinomial  123190.895511  182926.529386  0.746952\n",
              "2                      Ridge  137491.043394  232165.242665  0.657878\n",
              "3                      Lasso  137480.571549  232134.527538  0.657969"
            ],
            "text/html": [
              "\n",
              "  <div id=\"df-f72ca663-8f5a-40fb-a0f3-e5d63cf4721a\">\n",
              "    <div class=\"colab-df-container\">\n",
              "      <div>\n",
              "<style scoped>\n",
              "    .dataframe tbody tr th:only-of-type {\n",
              "        vertical-align: middle;\n",
              "    }\n",
              "\n",
              "    .dataframe tbody tr th {\n",
              "        vertical-align: top;\n",
              "    }\n",
              "\n",
              "    .dataframe thead th {\n",
              "        text-align: right;\n",
              "    }\n",
              "</style>\n",
              "<table border=\"1\" class=\"dataframe\">\n",
              "  <thead>\n",
              "    <tr style=\"text-align: right;\">\n",
              "      <th></th>\n",
              "      <th>Modelo</th>\n",
              "      <th>MAE</th>\n",
              "      <th>RMSE</th>\n",
              "      <th>R2</th>\n",
              "    </tr>\n",
              "  </thead>\n",
              "  <tbody>\n",
              "    <tr>\n",
              "      <th>0</th>\n",
              "      <td>Regresión lineal múltiple</td>\n",
              "      <td>137480.138827</td>\n",
              "      <td>232133.367624</td>\n",
              "      <td>0.657972</td>\n",
              "    </tr>\n",
              "    <tr>\n",
              "      <th>1</th>\n",
              "      <td>Regresión Polinomial</td>\n",
              "      <td>123190.895511</td>\n",
              "      <td>182926.529386</td>\n",
              "      <td>0.746952</td>\n",
              "    </tr>\n",
              "    <tr>\n",
              "      <th>2</th>\n",
              "      <td>Ridge</td>\n",
              "      <td>137491.043394</td>\n",
              "      <td>232165.242665</td>\n",
              "      <td>0.657878</td>\n",
              "    </tr>\n",
              "    <tr>\n",
              "      <th>3</th>\n",
              "      <td>Lasso</td>\n",
              "      <td>137480.571549</td>\n",
              "      <td>232134.527538</td>\n",
              "      <td>0.657969</td>\n",
              "    </tr>\n",
              "  </tbody>\n",
              "</table>\n",
              "</div>\n",
              "      <button class=\"colab-df-convert\" onclick=\"convertToInteractive('df-f72ca663-8f5a-40fb-a0f3-e5d63cf4721a')\"\n",
              "              title=\"Convert this dataframe to an interactive table.\"\n",
              "              style=\"display:none;\">\n",
              "        \n",
              "  <svg xmlns=\"http://www.w3.org/2000/svg\" height=\"24px\"viewBox=\"0 0 24 24\"\n",
              "       width=\"24px\">\n",
              "    <path d=\"M0 0h24v24H0V0z\" fill=\"none\"/>\n",
              "    <path d=\"M18.56 5.44l.94 2.06.94-2.06 2.06-.94-2.06-.94-.94-2.06-.94 2.06-2.06.94zm-11 1L8.5 8.5l.94-2.06 2.06-.94-2.06-.94L8.5 2.5l-.94 2.06-2.06.94zm10 10l.94 2.06.94-2.06 2.06-.94-2.06-.94-.94-2.06-.94 2.06-2.06.94z\"/><path d=\"M17.41 7.96l-1.37-1.37c-.4-.4-.92-.59-1.43-.59-.52 0-1.04.2-1.43.59L10.3 9.45l-7.72 7.72c-.78.78-.78 2.05 0 2.83L4 21.41c.39.39.9.59 1.41.59.51 0 1.02-.2 1.41-.59l7.78-7.78 2.81-2.81c.8-.78.8-2.07 0-2.86zM5.41 20L4 18.59l7.72-7.72 1.47 1.35L5.41 20z\"/>\n",
              "  </svg>\n",
              "      </button>\n",
              "      \n",
              "  <style>\n",
              "    .colab-df-container {\n",
              "      display:flex;\n",
              "      flex-wrap:wrap;\n",
              "      gap: 12px;\n",
              "    }\n",
              "\n",
              "    .colab-df-convert {\n",
              "      background-color: #E8F0FE;\n",
              "      border: none;\n",
              "      border-radius: 50%;\n",
              "      cursor: pointer;\n",
              "      display: none;\n",
              "      fill: #1967D2;\n",
              "      height: 32px;\n",
              "      padding: 0 0 0 0;\n",
              "      width: 32px;\n",
              "    }\n",
              "\n",
              "    .colab-df-convert:hover {\n",
              "      background-color: #E2EBFA;\n",
              "      box-shadow: 0px 1px 2px rgba(60, 64, 67, 0.3), 0px 1px 3px 1px rgba(60, 64, 67, 0.15);\n",
              "      fill: #174EA6;\n",
              "    }\n",
              "\n",
              "    [theme=dark] .colab-df-convert {\n",
              "      background-color: #3B4455;\n",
              "      fill: #D2E3FC;\n",
              "    }\n",
              "\n",
              "    [theme=dark] .colab-df-convert:hover {\n",
              "      background-color: #434B5C;\n",
              "      box-shadow: 0px 1px 3px 1px rgba(0, 0, 0, 0.15);\n",
              "      filter: drop-shadow(0px 1px 2px rgba(0, 0, 0, 0.3));\n",
              "      fill: #FFFFFF;\n",
              "    }\n",
              "  </style>\n",
              "\n",
              "      <script>\n",
              "        const buttonEl =\n",
              "          document.querySelector('#df-f72ca663-8f5a-40fb-a0f3-e5d63cf4721a button.colab-df-convert');\n",
              "        buttonEl.style.display =\n",
              "          google.colab.kernel.accessAllowed ? 'block' : 'none';\n",
              "\n",
              "        async function convertToInteractive(key) {\n",
              "          const element = document.querySelector('#df-f72ca663-8f5a-40fb-a0f3-e5d63cf4721a');\n",
              "          const dataTable =\n",
              "            await google.colab.kernel.invokeFunction('convertToInteractive',\n",
              "                                                     [key], {});\n",
              "          if (!dataTable) return;\n",
              "\n",
              "          const docLinkHtml = 'Like what you see? Visit the ' +\n",
              "            '<a target=\"_blank\" href=https://colab.research.google.com/notebooks/data_table.ipynb>data table notebook</a>'\n",
              "            + ' to learn more about interactive tables.';\n",
              "          element.innerHTML = '';\n",
              "          dataTable['output_type'] = 'display_data';\n",
              "          await google.colab.output.renderOutput(dataTable, element);\n",
              "          const docLink = document.createElement('div');\n",
              "          docLink.innerHTML = docLinkHtml;\n",
              "          element.appendChild(docLink);\n",
              "        }\n",
              "      </script>\n",
              "    </div>\n",
              "  </div>\n",
              "  "
            ]
          },
          "metadata": {},
          "execution_count": 36
        }
      ]
    },
    {
      "cell_type": "markdown",
      "source": [
        "**R Cuadrada**"
      ],
      "metadata": {
        "id": "8HikAQmQQnzR"
      }
    },
    {
      "cell_type": "code",
      "source": [
        "sns.barplot(data=dfErroresEjercicio2, x='Modelo', y='R2', palette = 'Blues', edgecolor = 'w')\n",
        "plt.xlabel('Modelo', fontsize=11)\n",
        "plt.tick_params(axis='both', which='major', labelsize=12,   rotation=45)"
      ],
      "metadata": {
        "id": "chabOcDlQqDk",
        "outputId": "043df841-0beb-4eb0-fe6a-e91b41d8fdac",
        "colab": {
          "base_uri": "https://localhost:8080/",
          "height": 385
        }
      },
      "execution_count": null,
      "outputs": [
        {
          "output_type": "display_data",
          "data": {
            "text/plain": [
              "<Figure size 432x288 with 1 Axes>"
            ],
            "image/png": "[encoded data removed]"
          },
          "metadata": {
            "needs_background": "light"
          }
        }
      ]
    },
    {
      "cell_type": "markdown",
      "source": [
        "**Explica tus resultados, que método se aproxima mejor, ¿por qué?, ¿qué porcentajes de entrenamiento y evaluación usaste? ¿Que error tienes?, ¿es bueno, ¿Cómo lo sabes?**\n",
        "\n",
        "Los mejores resultados en términos de MAE fueron para la regresión polinomial con **123190.90** sin embargo no fueron significativos. Si comparamos contra la regresión lineal múltiple (_137480.14_), la regresión Ridge (_137491.04_) y Lasso (_137480.57_) apenas se obtuvo un MAE ligeramente mejor. Además, hay que recordar que la regresión polinomial tiende a sobreentrenar el modelo.\n",
        "\n",
        "En cuestión de la R cuadrada, la regresión polinomial fue mejor (0.75) sin embargo; hay que decir que no fue realizada ninguna labor de afinamiento de hiperparámetros, luego entonces, estos modelos no serían confiables en un ambiente productivo.\n",
        "\n",
        "Los porcentajes de entrenamiento y evaluación fueron 90% y 10% respectivamente."
      ],
      "metadata": {
        "id": "gSj84mI1_-z5"
      }
    },
    {
      "cell_type": "markdown",
      "source": [
        "**Conclusiones:**"
      ],
      "metadata": {
        "id": "qZZ3HqD5__yl"
      }
    },
    {
      "cell_type": "markdown",
      "source": [
        "1- La regresión polinomial ofreció mejores resultados. Debe anotarse que esto sin realizar ningún tipo de transformación de variables.\n",
        "\n",
        "2- Tampoco se realizaron análisis para la detección de outliers por tanto el MAE no reflejó penalización de los mismos. \n",
        "\n",
        "3- La mejor R cuadrada la devolvió el modelo polinomial (0.77). En términos simples sí es posible afirmar que la regresión polinomial fue el mejor modelo."
      ],
      "metadata": {
        "id": "QH9IzWDYTOwi"
      }
    },
    {
      "cell_type": "code",
      "source": [],
      "metadata": {
        "id": "SmvZ7nyMRYNq"
      },
      "execution_count": null,
      "outputs": []
    }
  ]
}
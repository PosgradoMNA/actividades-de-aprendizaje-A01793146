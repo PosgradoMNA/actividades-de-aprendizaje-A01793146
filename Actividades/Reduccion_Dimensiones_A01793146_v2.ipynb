{
  "nbformat": 4,
  "nbformat_minor": 0,
  "metadata": {
    "colab": {
      "provenance": [],
      "authorship_tag": "ABX9TyN3hRdXMmCiO9SDM/Jj4IKn",
      "include_colab_link": true
    },
    "kernelspec": {
      "name": "python3",
      "display_name": "Python 3"
    },
    "language_info": {
      "name": "python"
    }
  },
  "cells": [
    {
      "cell_type": "markdown",
      "metadata": {
        "id": "view-in-github",
        "colab_type": "text"
      },
      "source": [
        "<a href=\"https://colab.research.google.com/github/PosgradoMNA/actividades-de-aprendizaje-A01793146/blob/main/Actividades/Reduccion_Dimensiones_A01793146_v2.ipynb\" target=\"_parent\"><img src=\"https://colab.research.google.com/assets/colab-badge.svg\" alt=\"Open In Colab\"/></a>"
      ]
    },
    {
      "cell_type": "code",
      "execution_count": null,
      "metadata": {
        "id": "-RR3mqE0quZX"
      },
      "outputs": [],
      "source": []
    },
    {
      "cell_type": "markdown",
      "source": [
        "## Repaso Transformación y reducción de dimensiones\n",
        "## Alejandro Jesús Vázquez Navarro\n",
        "## A01793146\n",
        "## Ciencia de Datos\n",
        "## Profesora: María de la Paz Rico Fernández\n",
        "## 25 de octubre de 2022"
      ],
      "metadata": {
        "id": "seGTGo_bqwG8"
      }
    }
  ]
}